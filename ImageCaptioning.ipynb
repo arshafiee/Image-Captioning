{
 "cells": [
  {
   "cell_type": "markdown",
   "metadata": {
    "colab_type": "text",
    "id": "OnAT9BxnwuKV"
   },
   "source": [
    "### Import Packages"
   ]
  },
  {
   "cell_type": "code",
   "execution_count": null,
   "metadata": {
    "colab": {},
    "colab_type": "code",
    "id": "kFbOt2tovhg7"
   },
   "outputs": [],
   "source": [
    "import json\n",
    "import string\n",
    "from zipfile import ZipFile\n",
    "from PIL import Image\n",
    "import matplotlib.pyplot as plt\n",
    "import matplotlib.patches as patches\n",
    "import numpy as np\n",
    "from sklearn.preprocessing import MultiLabelBinarizer\n",
    "import torch \n",
    "import tensorflow as tf\n",
    "\n",
    "from keras.applications.inception_v3 import InceptionV3\n",
    "from keras.applications.inception_v3 import preprocess_input\n",
    "from keras.layers import GlobalAveragePooling2D, Dense, BatchNormalization\n",
    "from keras.models import Model\n",
    "from keras import optimizers\n",
    "from keras.preprocessing.image import ImageDataGenerator\n",
    "from keras.callbacks import ModelCheckpoint\n",
    "from keras.preprocessing.sequence import pad_sequences\n",
    "from keras.utils import to_categorical, plot_model\n",
    "from keras.layers import Input, Dropout, LSTM, CuDNNLSTM, Bidirectional, add\n",
    "from keras.layers import Lambda, dot, Activation, concatenate\n",
    "from keras.engine.topology import Layer\n",
    "from keras import initializers, regularizers, constraints\n",
    "from keras.models import load_model\n",
    "\n",
    "\n",
    "from gensim.models import Word2Vec, Phrases\n",
    "from gensim.test.utils import common_texts\n",
    "\n",
    "# using gpu\n",
    "sess = tf.Session(config=tf.ConfigProto(log_device_placement=True))\n",
    "from keras import backend as K\n",
    "K.tensorflow_backend._get_available_gpus()"
   ]
  },
  {
   "cell_type": "markdown",
   "metadata": {
    "colab_type": "text",
    "id": "TlAps7j6yLZa"
   },
   "source": [
    "### Mounting"
   ]
  },
  {
   "cell_type": "code",
   "execution_count": null,
   "metadata": {
    "colab": {},
    "colab_type": "code",
    "id": "-K5l4lkbyOXX"
   },
   "outputs": [],
   "source": [
    "from google.colab import drive\n",
    "drive.mount('/content/drive', force_remount = True)"
   ]
  },
  {
   "cell_type": "markdown",
   "metadata": {
    "colab_type": "text",
    "id": "Dw4oQIt4yDMK"
   },
   "source": [
    "### Loading Files"
   ]
  },
  {
   "cell_type": "code",
   "execution_count": null,
   "metadata": {
    "colab": {},
    "colab_type": "code",
    "id": "tguzF52cyE0y"
   },
   "outputs": [],
   "source": [
    "# labels\n",
    "with open('drive/My Drive/Colab Notebooks/Deep Learning Project(1)/DeepLearning2019 - Project Data Set/labels.json') as json_file:\n",
    "  labels_dic = json.load(json_file)\n",
    "\n",
    "# labels_with_bbox\n",
    "with open('drive/My Drive/Colab Notebooks/Deep Learning Project(1)/DeepLearning2019 - Project Data Set/labels_with_bbox.json') as json_file:\n",
    "  labels_with_bbox_dic = json.load(json_file)\n",
    "\n",
    "# images_info\n",
    "with open('drive/My Drive/Colab Notebooks/Deep Learning Project(1)/DeepLearning2019 - Project Data Set/images_info.json') as json_file:\n",
    "  images_info_dic = json.load(json_file)\n",
    "\n",
    "# categories_info\n",
    "with open('drive/My Drive/Colab Notebooks/Deep Learning Project(1)/DeepLearning2019 - Project Data Set/categories_info.json') as json_file:\n",
    "  categories_info_dic = json.load(json_file)\n",
    "\n",
    "# captions\n",
    "with open('drive/My Drive/Colab Notebooks/Deep Learning Project(1)/DeepLearning2019 - Project Data Set/captions.json') as json_file:\n",
    "  captions_dic = json.load(json_file)\n",
    "\n",
    "# additional labels\n",
    "with open('drive/My Drive/Colab Notebooks/Deep Learning Project(1)/DeepLearning2019 - Project Data Set/More/additional_labels.json') as json_file:\n",
    "  additional_labels_dic = json.load(json_file)\n",
    "\n",
    "# additional images info\n",
    "with open('drive/My Drive/Colab Notebooks/Deep Learning Project(1)/DeepLearning2019 - Project Data Set/More/additional_images_info.json') as json_file:\n",
    "  additional_images_info_dic = json.load(json_file)\n",
    "\n",
    "# additional captions\n",
    "with open('drive/My Drive/Colab Notebooks/Deep Learning Project(1)/DeepLearning2019 - Project Data Set/More/additional_captions.json') as json_file:\n",
    "  additional_captions_dic = json.load(json_file)\n",
    "\n",
    "labels_with_bbox_dic = labels_with_bbox_dic + additional_labels_dic\n",
    "images_info_dic = images_info_dic + additional_images_info_dic\n",
    "captions_dic = captions_dic + additional_captions_dic\n",
    "\n",
    "\n",
    "del(additional_labels_dic)\n",
    "del(additional_images_info_dic)\n",
    "del(additional_captions_dic)"
   ]
  },
  {
   "cell_type": "markdown",
   "metadata": {
    "colab_type": "text",
    "id": "WMLqWr3GLU9N"
   },
   "source": [
    "### Loading And Resizing Images"
   ]
  },
  {
   "cell_type": "code",
   "execution_count": null,
   "metadata": {
    "colab": {},
    "colab_type": "code",
    "id": "aZS7JrNYLXjF"
   },
   "outputs": [],
   "source": [
    "# images_array = np.zeros((15000, 200, 200, 3), dtype=np.float32)\n",
    "\n",
    "# images\n",
    "with ZipFile('drive/My Drive/Colab Notebooks/Deep Learning Project(1)/DeepLearning2019 - Project Data Set/images.zip', 'r') as zipfile:\n",
    "  infolist = zipfile.infolist()\n",
    "  infolist = [infolist[i] for i in range(1, len(infolist)) if i%2==0]\n",
    "  images_name = []\n",
    "  for i, info in enumerate(infolist):\n",
    "    images_name.append(info.filename[8:])\n",
    "    # temp = Image.open(zipfile.open(info))\n",
    "    # temp = temp.convert('RGB')\n",
    "    # temp = temp.resize((200, 200))\n",
    "    # temp = np.asarray(temp).astype('float32')\n",
    "    # images_array[i] = temp\n",
    "\n",
    "i += 1\n",
    "# additional images\n",
    "with ZipFile('drive/My Drive/Colab Notebooks/Deep Learning Project(1)/DeepLearning2019 - Project Data Set/More/MoreImages.zip', 'r') as zipfile:\n",
    "  infolist2 = zipfile.infolist()[1:]\n",
    "  add_images_name = []\n",
    "  for j, info in enumerate(infolist2):\n",
    "    add_images_name.append(info.filename[11:])\n",
    "    # temp = Image.open(zipfile.open(info))\n",
    "    # temp = temp.convert('RGB')\n",
    "    # temp = temp.resize((200, 200))\n",
    "    # temp = np.asarray(temp).astype('float32')\n",
    "    # images_array[i+j] = temp\n",
    "\n",
    "del(infolist)\n",
    "del(infolist2)\n",
    "\n",
    "images_name = images_name + add_images_name\n",
    "\n",
    "del(add_images_name)"
   ]
  },
  {
   "cell_type": "markdown",
   "metadata": {
    "colab_type": "text",
    "id": "wBZ_DGQfAfXQ"
   },
   "source": [
    "### Deleting Images Without Labels"
   ]
  },
  {
   "cell_type": "code",
   "execution_count": null,
   "metadata": {
    "colab": {},
    "colab_type": "code",
    "id": "cNh9JajgeLCi"
   },
   "outputs": [],
   "source": [
    "images_file_name = [index['file_name'] for index in images_info_dic]\n",
    "image_id = [index['image_id'] for index in labels_with_bbox_dic]\n",
    "for i, name in enumerate(images_name):\n",
    "  id = images_info_dic[images_file_name.index(name)]['id']\n",
    "  if id not in image_id:\n",
    "    images_name.remove(name)\n",
    "    # images_array = np.delete(images_array, i, 0)\n",
    "\n",
    "del(images_file_name)\n",
    "del(image_id)"
   ]
  },
  {
   "cell_type": "markdown",
   "metadata": {
    "colab_type": "text",
    "id": "USEvGtZ0Btr_"
   },
   "source": [
    "### Min-Max Size of Images"
   ]
  },
  {
   "cell_type": "code",
   "execution_count": null,
   "metadata": {
    "colab": {},
    "colab_type": "code",
    "id": "289C4JAPB4_s"
   },
   "outputs": [],
   "source": [
    "heights = [index['height'] for index in images_info_dic]\n",
    "widths = [index['width'] for index in images_info_dic]\n",
    "\n",
    "min_height = min(heights)\n",
    "max_height = max(heights)\n",
    "min_width = min(widths)\n",
    "max_width = max(widths)\n"
   ]
  },
  {
   "cell_type": "markdown",
   "metadata": {
    "colab_type": "text",
    "id": "cHOPO46QPCMt"
   },
   "source": [
    "### Omitting Labels Without Images"
   ]
  },
  {
   "cell_type": "code",
   "execution_count": null,
   "metadata": {
    "colab": {},
    "colab_type": "code",
    "id": "ON7n-W_GPBUT"
   },
   "outputs": [],
   "source": [
    "def omit_labels(our_list, omitting_labels, dic_key):\n",
    "  j = 0\n",
    "  for index in our_list:\n",
    "    for k in range(len(omitting_labels)-1):\n",
    "      if index[dic_key] > omitting_labels[k] and index[dic_key] < omitting_labels[k+1]:\n",
    "        our_list[j][dic_key] += -(k+1)\n",
    "        break\n",
    "      if index[dic_key] > omitting_labels[9]:\n",
    "        our_list[j][dic_key] += -10\n",
    "        break\n",
    "    j += 1\n",
    "  return our_list\n",
    "\n",
    "\n",
    "all_labels = [index['category_id'] for index in labels_with_bbox_dic]\n",
    "omitting_labels = []\n",
    "for i in range(1, 91):\n",
    "  if i not in all_labels:\n",
    "    omitting_labels.append(i)\n",
    "\n",
    "# omitting labels\n",
    "labels_with_bbox_dic = omit_labels(labels_with_bbox_dic, omitting_labels, 'category_id')\n",
    "categories_info_dic = omit_labels(categories_info_dic, omitting_labels, 'id')"
   ]
  },
  {
   "cell_type": "markdown",
   "metadata": {
    "colab_type": "text",
    "id": "DR_lfhpHYejy"
   },
   "source": [
    "### Finding Image ID"
   ]
  },
  {
   "cell_type": "code",
   "execution_count": null,
   "metadata": {
    "colab": {},
    "colab_type": "code",
    "id": "9Q2IBqu1YZXN"
   },
   "outputs": [],
   "source": [
    "def get_id(name, images_info_dic):\n",
    "  images_file_name = [index['file_name'] for index in images_info_dic]\n",
    "  id = images_info_dic[images_file_name.index(name)]['id']\n",
    "  return id"
   ]
  },
  {
   "cell_type": "markdown",
   "metadata": {
    "colab_type": "text",
    "id": "NiwUm_oHZ2Ar"
   },
   "source": [
    "### Finding Image Labels"
   ]
  },
  {
   "cell_type": "code",
   "execution_count": null,
   "metadata": {
    "colab": {},
    "colab_type": "code",
    "id": "zNdBZkRwZ5yG"
   },
   "outputs": [],
   "source": [
    "def get_labels(id, labels_with_bbox_dic):\n",
    "  labels_list = []\n",
    "  for index in labels_with_bbox_dic:\n",
    "    if index['image_id'] == id:\n",
    "      labels_list.append(index['category_id'])\n",
    "  return labels_list"
   ]
  },
  {
   "cell_type": "markdown",
   "metadata": {
    "colab_type": "text",
    "id": "ERpnqJ9qclr0"
   },
   "source": [
    "### Targets of All Images"
   ]
  },
  {
   "cell_type": "code",
   "execution_count": null,
   "metadata": {
    "colab": {},
    "colab_type": "code",
    "id": "Kt49b9bPcXlP"
   },
   "outputs": [],
   "source": [
    "all_targets = []\n",
    "for name in images_name:\n",
    "  id = get_id(name, images_info_dic)\n",
    "  labels_list = get_labels(id, labels_with_bbox_dic)\n",
    "  all_targets.append(labels_list)"
   ]
  },
  {
   "cell_type": "markdown",
   "metadata": {
    "colab_type": "text",
    "id": "Aoo4_pWSdtea"
   },
   "source": [
    "### Generating One-Hot Targets"
   ]
  },
  {
   "cell_type": "code",
   "execution_count": null,
   "metadata": {
    "colab": {},
    "colab_type": "code",
    "id": "mmnJQ5f8dbtt"
   },
   "outputs": [],
   "source": [
    "num_classes = len(categories_info_dic)\n",
    "num_images = len(images_array)\n",
    "mlb = MultiLabelBinarizer()\n",
    "targets_oh = mlb.fit_transform(all_targets).astype('float32')\n",
    "del(all_targets)"
   ]
  },
  {
   "cell_type": "markdown",
   "metadata": {
    "colab_type": "text",
    "id": "BUGrKBSOic8L"
   },
   "source": [
    "### Saving Imprtant Data"
   ]
  },
  {
   "cell_type": "code",
   "execution_count": null,
   "metadata": {
    "colab": {},
    "colab_type": "code",
    "id": "oiiVB_cjSxXD"
   },
   "outputs": [],
   "source": [
    "np.save('drive/My Drive/Colab Notebooks/images_array.npy', images_array)\n",
    "np.save('drive/My Drive/Colab Notebooks/target_oh.npy', targets_oh)"
   ]
  },
  {
   "cell_type": "markdown",
   "metadata": {
    "colab_type": "text",
    "id": "7VY_7QjXif4Q"
   },
   "source": [
    "### Loading Data"
   ]
  },
  {
   "cell_type": "code",
   "execution_count": null,
   "metadata": {
    "colab": {},
    "colab_type": "code",
    "id": "7ZYjfO82bPMC"
   },
   "outputs": [],
   "source": [
    "num_classes = len(categories_info_dic)\n",
    "images_array = np.load('drive/My Drive/Colab Notebooks/images_array.npy')\n",
    "targets_oh = np.load('drive/My Drive/Colab Notebooks/target_oh.npy')"
   ]
  },
  {
   "cell_type": "markdown",
   "metadata": {
    "colab_type": "text",
    "id": "BOUm8CagFWMy"
   },
   "source": [
    "### CNN Model"
   ]
  },
  {
   "cell_type": "code",
   "execution_count": null,
   "metadata": {
    "colab": {
     "base_uri": "https://localhost:8080/",
     "height": 1000
    },
    "colab_type": "code",
    "id": "dnfXSnGRGJbb",
    "outputId": "4499f074-baa5-4833-805f-a20c65d49a7b"
   },
   "outputs": [
    {
     "name": "stdout",
     "output_type": "stream",
     "text": [
      "WARNING:tensorflow:From /usr/local/lib/python3.6/dist-packages/keras/backend/tensorflow_backend.py:66: The name tf.get_default_graph is deprecated. Please use tf.compat.v1.get_default_graph instead.\n",
      "\n",
      "WARNING:tensorflow:From /usr/local/lib/python3.6/dist-packages/keras/backend/tensorflow_backend.py:541: The name tf.placeholder is deprecated. Please use tf.compat.v1.placeholder instead.\n",
      "\n",
      "WARNING:tensorflow:From /usr/local/lib/python3.6/dist-packages/keras/backend/tensorflow_backend.py:4432: The name tf.random_uniform is deprecated. Please use tf.random.uniform instead.\n",
      "\n",
      "WARNING:tensorflow:From /usr/local/lib/python3.6/dist-packages/keras/backend/tensorflow_backend.py:2041: The name tf.nn.fused_batch_norm is deprecated. Please use tf.compat.v1.nn.fused_batch_norm instead.\n",
      "\n",
      "WARNING:tensorflow:From /usr/local/lib/python3.6/dist-packages/keras/backend/tensorflow_backend.py:148: The name tf.placeholder_with_default is deprecated. Please use tf.compat.v1.placeholder_with_default instead.\n",
      "\n",
      "WARNING:tensorflow:From /usr/local/lib/python3.6/dist-packages/keras/backend/tensorflow_backend.py:4267: The name tf.nn.max_pool is deprecated. Please use tf.nn.max_pool2d instead.\n",
      "\n",
      "WARNING:tensorflow:From /usr/local/lib/python3.6/dist-packages/keras/backend/tensorflow_backend.py:4271: The name tf.nn.avg_pool is deprecated. Please use tf.nn.avg_pool2d instead.\n",
      "\n",
      "WARNING:tensorflow:From /usr/local/lib/python3.6/dist-packages/keras/backend/tensorflow_backend.py:216: The name tf.is_variable_initialized is deprecated. Please use tf.compat.v1.is_variable_initialized instead.\n",
      "\n",
      "WARNING:tensorflow:From /usr/local/lib/python3.6/dist-packages/keras/backend/tensorflow_backend.py:223: The name tf.variables_initializer is deprecated. Please use tf.compat.v1.variables_initializer instead.\n",
      "\n",
      "Model: \"model_1\"\n",
      "__________________________________________________________________________________________________\n",
      "Layer (type)                    Output Shape         Param #     Connected to                     \n",
      "==================================================================================================\n",
      "input_1 (InputLayer)            (None, 200, 200, 3)  0                                            \n",
      "__________________________________________________________________________________________________\n",
      "conv2d_1 (Conv2D)               (None, 99, 99, 32)   864         input_1[0][0]                    \n",
      "__________________________________________________________________________________________________\n",
      "batch_normalization_1 (BatchNor (None, 99, 99, 32)   96          conv2d_1[0][0]                   \n",
      "__________________________________________________________________________________________________\n",
      "activation_1 (Activation)       (None, 99, 99, 32)   0           batch_normalization_1[0][0]      \n",
      "__________________________________________________________________________________________________\n",
      "conv2d_2 (Conv2D)               (None, 97, 97, 32)   9216        activation_1[0][0]               \n",
      "__________________________________________________________________________________________________\n",
      "batch_normalization_2 (BatchNor (None, 97, 97, 32)   96          conv2d_2[0][0]                   \n",
      "__________________________________________________________________________________________________\n",
      "activation_2 (Activation)       (None, 97, 97, 32)   0           batch_normalization_2[0][0]      \n",
      "__________________________________________________________________________________________________\n",
      "conv2d_3 (Conv2D)               (None, 97, 97, 64)   18432       activation_2[0][0]               \n",
      "__________________________________________________________________________________________________\n",
      "batch_normalization_3 (BatchNor (None, 97, 97, 64)   192         conv2d_3[0][0]                   \n",
      "__________________________________________________________________________________________________\n",
      "activation_3 (Activation)       (None, 97, 97, 64)   0           batch_normalization_3[0][0]      \n",
      "__________________________________________________________________________________________________\n",
      "max_pooling2d_1 (MaxPooling2D)  (None, 48, 48, 64)   0           activation_3[0][0]               \n",
      "__________________________________________________________________________________________________\n",
      "conv2d_4 (Conv2D)               (None, 48, 48, 80)   5120        max_pooling2d_1[0][0]            \n",
      "__________________________________________________________________________________________________\n",
      "batch_normalization_4 (BatchNor (None, 48, 48, 80)   240         conv2d_4[0][0]                   \n",
      "__________________________________________________________________________________________________\n",
      "activation_4 (Activation)       (None, 48, 48, 80)   0           batch_normalization_4[0][0]      \n",
      "__________________________________________________________________________________________________\n",
      "conv2d_5 (Conv2D)               (None, 46, 46, 192)  138240      activation_4[0][0]               \n",
      "__________________________________________________________________________________________________\n",
      "batch_normalization_5 (BatchNor (None, 46, 46, 192)  576         conv2d_5[0][0]                   \n",
      "__________________________________________________________________________________________________\n",
      "activation_5 (Activation)       (None, 46, 46, 192)  0           batch_normalization_5[0][0]      \n",
      "__________________________________________________________________________________________________\n",
      "max_pooling2d_2 (MaxPooling2D)  (None, 22, 22, 192)  0           activation_5[0][0]               \n",
      "__________________________________________________________________________________________________\n",
      "conv2d_9 (Conv2D)               (None, 22, 22, 64)   12288       max_pooling2d_2[0][0]            \n",
      "__________________________________________________________________________________________________\n",
      "batch_normalization_9 (BatchNor (None, 22, 22, 64)   192         conv2d_9[0][0]                   \n",
      "__________________________________________________________________________________________________\n",
      "activation_9 (Activation)       (None, 22, 22, 64)   0           batch_normalization_9[0][0]      \n",
      "__________________________________________________________________________________________________\n",
      "conv2d_7 (Conv2D)               (None, 22, 22, 48)   9216        max_pooling2d_2[0][0]            \n",
      "__________________________________________________________________________________________________\n",
      "conv2d_10 (Conv2D)              (None, 22, 22, 96)   55296       activation_9[0][0]               \n",
      "__________________________________________________________________________________________________\n",
      "batch_normalization_7 (BatchNor (None, 22, 22, 48)   144         conv2d_7[0][0]                   \n",
      "__________________________________________________________________________________________________\n",
      "batch_normalization_10 (BatchNo (None, 22, 22, 96)   288         conv2d_10[0][0]                  \n",
      "__________________________________________________________________________________________________\n",
      "activation_7 (Activation)       (None, 22, 22, 48)   0           batch_normalization_7[0][0]      \n",
      "__________________________________________________________________________________________________\n",
      "activation_10 (Activation)      (None, 22, 22, 96)   0           batch_normalization_10[0][0]     \n",
      "__________________________________________________________________________________________________\n",
      "average_pooling2d_1 (AveragePoo (None, 22, 22, 192)  0           max_pooling2d_2[0][0]            \n",
      "__________________________________________________________________________________________________\n",
      "conv2d_6 (Conv2D)               (None, 22, 22, 64)   12288       max_pooling2d_2[0][0]            \n",
      "__________________________________________________________________________________________________\n",
      "conv2d_8 (Conv2D)               (None, 22, 22, 64)   76800       activation_7[0][0]               \n",
      "__________________________________________________________________________________________________\n",
      "conv2d_11 (Conv2D)              (None, 22, 22, 96)   82944       activation_10[0][0]              \n",
      "__________________________________________________________________________________________________\n",
      "conv2d_12 (Conv2D)              (None, 22, 22, 32)   6144        average_pooling2d_1[0][0]        \n",
      "__________________________________________________________________________________________________\n",
      "batch_normalization_6 (BatchNor (None, 22, 22, 64)   192         conv2d_6[0][0]                   \n",
      "__________________________________________________________________________________________________\n",
      "batch_normalization_8 (BatchNor (None, 22, 22, 64)   192         conv2d_8[0][0]                   \n",
      "__________________________________________________________________________________________________\n",
      "batch_normalization_11 (BatchNo (None, 22, 22, 96)   288         conv2d_11[0][0]                  \n",
      "__________________________________________________________________________________________________\n",
      "batch_normalization_12 (BatchNo (None, 22, 22, 32)   96          conv2d_12[0][0]                  \n",
      "__________________________________________________________________________________________________\n",
      "activation_6 (Activation)       (None, 22, 22, 64)   0           batch_normalization_6[0][0]      \n",
      "__________________________________________________________________________________________________\n",
      "activation_8 (Activation)       (None, 22, 22, 64)   0           batch_normalization_8[0][0]      \n",
      "__________________________________________________________________________________________________\n",
      "activation_11 (Activation)      (None, 22, 22, 96)   0           batch_normalization_11[0][0]     \n",
      "__________________________________________________________________________________________________\n",
      "activation_12 (Activation)      (None, 22, 22, 32)   0           batch_normalization_12[0][0]     \n",
      "__________________________________________________________________________________________________\n",
      "mixed0 (Concatenate)            (None, 22, 22, 256)  0           activation_6[0][0]               \n",
      "                                                                 activation_8[0][0]               \n",
      "                                                                 activation_11[0][0]              \n",
      "                                                                 activation_12[0][0]              \n",
      "__________________________________________________________________________________________________\n",
      "conv2d_16 (Conv2D)              (None, 22, 22, 64)   16384       mixed0[0][0]                     \n",
      "__________________________________________________________________________________________________\n",
      "batch_normalization_16 (BatchNo (None, 22, 22, 64)   192         conv2d_16[0][0]                  \n",
      "__________________________________________________________________________________________________\n",
      "activation_16 (Activation)      (None, 22, 22, 64)   0           batch_normalization_16[0][0]     \n",
      "__________________________________________________________________________________________________\n",
      "conv2d_14 (Conv2D)              (None, 22, 22, 48)   12288       mixed0[0][0]                     \n",
      "__________________________________________________________________________________________________\n",
      "conv2d_17 (Conv2D)              (None, 22, 22, 96)   55296       activation_16[0][0]              \n",
      "__________________________________________________________________________________________________\n",
      "batch_normalization_14 (BatchNo (None, 22, 22, 48)   144         conv2d_14[0][0]                  \n",
      "__________________________________________________________________________________________________\n",
      "batch_normalization_17 (BatchNo (None, 22, 22, 96)   288         conv2d_17[0][0]                  \n",
      "__________________________________________________________________________________________________\n",
      "activation_14 (Activation)      (None, 22, 22, 48)   0           batch_normalization_14[0][0]     \n",
      "__________________________________________________________________________________________________\n",
      "activation_17 (Activation)      (None, 22, 22, 96)   0           batch_normalization_17[0][0]     \n",
      "__________________________________________________________________________________________________\n",
      "average_pooling2d_2 (AveragePoo (None, 22, 22, 256)  0           mixed0[0][0]                     \n",
      "__________________________________________________________________________________________________\n",
      "conv2d_13 (Conv2D)              (None, 22, 22, 64)   16384       mixed0[0][0]                     \n",
      "__________________________________________________________________________________________________\n",
      "conv2d_15 (Conv2D)              (None, 22, 22, 64)   76800       activation_14[0][0]              \n",
      "__________________________________________________________________________________________________\n",
      "conv2d_18 (Conv2D)              (None, 22, 22, 96)   82944       activation_17[0][0]              \n",
      "__________________________________________________________________________________________________\n",
      "conv2d_19 (Conv2D)              (None, 22, 22, 64)   16384       average_pooling2d_2[0][0]        \n",
      "__________________________________________________________________________________________________\n",
      "batch_normalization_13 (BatchNo (None, 22, 22, 64)   192         conv2d_13[0][0]                  \n",
      "__________________________________________________________________________________________________\n",
      "batch_normalization_15 (BatchNo (None, 22, 22, 64)   192         conv2d_15[0][0]                  \n",
      "__________________________________________________________________________________________________\n",
      "batch_normalization_18 (BatchNo (None, 22, 22, 96)   288         conv2d_18[0][0]                  \n",
      "__________________________________________________________________________________________________\n",
      "batch_normalization_19 (BatchNo (None, 22, 22, 64)   192         conv2d_19[0][0]                  \n",
      "__________________________________________________________________________________________________\n",
      "activation_13 (Activation)      (None, 22, 22, 64)   0           batch_normalization_13[0][0]     \n",
      "__________________________________________________________________________________________________\n",
      "activation_15 (Activation)      (None, 22, 22, 64)   0           batch_normalization_15[0][0]     \n",
      "__________________________________________________________________________________________________\n",
      "activation_18 (Activation)      (None, 22, 22, 96)   0           batch_normalization_18[0][0]     \n",
      "__________________________________________________________________________________________________\n",
      "activation_19 (Activation)      (None, 22, 22, 64)   0           batch_normalization_19[0][0]     \n",
      "__________________________________________________________________________________________________\n",
      "mixed1 (Concatenate)            (None, 22, 22, 288)  0           activation_13[0][0]              \n",
      "                                                                 activation_15[0][0]              \n",
      "                                                                 activation_18[0][0]              \n",
      "                                                                 activation_19[0][0]              \n",
      "__________________________________________________________________________________________________\n",
      "conv2d_23 (Conv2D)              (None, 22, 22, 64)   18432       mixed1[0][0]                     \n",
      "__________________________________________________________________________________________________\n",
      "batch_normalization_23 (BatchNo (None, 22, 22, 64)   192         conv2d_23[0][0]                  \n",
      "__________________________________________________________________________________________________\n",
      "activation_23 (Activation)      (None, 22, 22, 64)   0           batch_normalization_23[0][0]     \n",
      "__________________________________________________________________________________________________\n",
      "conv2d_21 (Conv2D)              (None, 22, 22, 48)   13824       mixed1[0][0]                     \n",
      "__________________________________________________________________________________________________\n",
      "conv2d_24 (Conv2D)              (None, 22, 22, 96)   55296       activation_23[0][0]              \n",
      "__________________________________________________________________________________________________\n",
      "batch_normalization_21 (BatchNo (None, 22, 22, 48)   144         conv2d_21[0][0]                  \n",
      "__________________________________________________________________________________________________\n",
      "batch_normalization_24 (BatchNo (None, 22, 22, 96)   288         conv2d_24[0][0]                  \n",
      "__________________________________________________________________________________________________\n",
      "activation_21 (Activation)      (None, 22, 22, 48)   0           batch_normalization_21[0][0]     \n",
      "__________________________________________________________________________________________________\n",
      "activation_24 (Activation)      (None, 22, 22, 96)   0           batch_normalization_24[0][0]     \n",
      "__________________________________________________________________________________________________\n",
      "average_pooling2d_3 (AveragePoo (None, 22, 22, 288)  0           mixed1[0][0]                     \n",
      "__________________________________________________________________________________________________\n",
      "conv2d_20 (Conv2D)              (None, 22, 22, 64)   18432       mixed1[0][0]                     \n",
      "__________________________________________________________________________________________________\n",
      "conv2d_22 (Conv2D)              (None, 22, 22, 64)   76800       activation_21[0][0]              \n",
      "__________________________________________________________________________________________________\n",
      "conv2d_25 (Conv2D)              (None, 22, 22, 96)   82944       activation_24[0][0]              \n",
      "__________________________________________________________________________________________________\n",
      "conv2d_26 (Conv2D)              (None, 22, 22, 64)   18432       average_pooling2d_3[0][0]        \n",
      "__________________________________________________________________________________________________\n",
      "batch_normalization_20 (BatchNo (None, 22, 22, 64)   192         conv2d_20[0][0]                  \n",
      "__________________________________________________________________________________________________\n",
      "batch_normalization_22 (BatchNo (None, 22, 22, 64)   192         conv2d_22[0][0]                  \n",
      "__________________________________________________________________________________________________\n",
      "batch_normalization_25 (BatchNo (None, 22, 22, 96)   288         conv2d_25[0][0]                  \n",
      "__________________________________________________________________________________________________\n",
      "batch_normalization_26 (BatchNo (None, 22, 22, 64)   192         conv2d_26[0][0]                  \n",
      "__________________________________________________________________________________________________\n",
      "activation_20 (Activation)      (None, 22, 22, 64)   0           batch_normalization_20[0][0]     \n",
      "__________________________________________________________________________________________________\n",
      "activation_22 (Activation)      (None, 22, 22, 64)   0           batch_normalization_22[0][0]     \n",
      "__________________________________________________________________________________________________\n",
      "activation_25 (Activation)      (None, 22, 22, 96)   0           batch_normalization_25[0][0]     \n",
      "__________________________________________________________________________________________________\n",
      "activation_26 (Activation)      (None, 22, 22, 64)   0           batch_normalization_26[0][0]     \n",
      "__________________________________________________________________________________________________\n",
      "mixed2 (Concatenate)            (None, 22, 22, 288)  0           activation_20[0][0]              \n",
      "                                                                 activation_22[0][0]              \n",
      "                                                                 activation_25[0][0]              \n",
      "                                                                 activation_26[0][0]              \n",
      "__________________________________________________________________________________________________\n",
      "conv2d_28 (Conv2D)              (None, 22, 22, 64)   18432       mixed2[0][0]                     \n",
      "__________________________________________________________________________________________________\n",
      "batch_normalization_28 (BatchNo (None, 22, 22, 64)   192         conv2d_28[0][0]                  \n",
      "__________________________________________________________________________________________________\n",
      "activation_28 (Activation)      (None, 22, 22, 64)   0           batch_normalization_28[0][0]     \n",
      "__________________________________________________________________________________________________\n",
      "conv2d_29 (Conv2D)              (None, 22, 22, 96)   55296       activation_28[0][0]              \n",
      "__________________________________________________________________________________________________\n",
      "batch_normalization_29 (BatchNo (None, 22, 22, 96)   288         conv2d_29[0][0]                  \n",
      "__________________________________________________________________________________________________\n",
      "activation_29 (Activation)      (None, 22, 22, 96)   0           batch_normalization_29[0][0]     \n",
      "__________________________________________________________________________________________________\n",
      "conv2d_27 (Conv2D)              (None, 10, 10, 384)  995328      mixed2[0][0]                     \n",
      "__________________________________________________________________________________________________\n",
      "conv2d_30 (Conv2D)              (None, 10, 10, 96)   82944       activation_29[0][0]              \n",
      "__________________________________________________________________________________________________\n",
      "batch_normalization_27 (BatchNo (None, 10, 10, 384)  1152        conv2d_27[0][0]                  \n",
      "__________________________________________________________________________________________________\n",
      "batch_normalization_30 (BatchNo (None, 10, 10, 96)   288         conv2d_30[0][0]                  \n",
      "__________________________________________________________________________________________________\n",
      "activation_27 (Activation)      (None, 10, 10, 384)  0           batch_normalization_27[0][0]     \n",
      "__________________________________________________________________________________________________\n",
      "activation_30 (Activation)      (None, 10, 10, 96)   0           batch_normalization_30[0][0]     \n",
      "__________________________________________________________________________________________________\n",
      "max_pooling2d_3 (MaxPooling2D)  (None, 10, 10, 288)  0           mixed2[0][0]                     \n",
      "__________________________________________________________________________________________________\n",
      "mixed3 (Concatenate)            (None, 10, 10, 768)  0           activation_27[0][0]              \n",
      "                                                                 activation_30[0][0]              \n",
      "                                                                 max_pooling2d_3[0][0]            \n",
      "__________________________________________________________________________________________________\n",
      "conv2d_35 (Conv2D)              (None, 10, 10, 128)  98304       mixed3[0][0]                     \n",
      "__________________________________________________________________________________________________\n",
      "batch_normalization_35 (BatchNo (None, 10, 10, 128)  384         conv2d_35[0][0]                  \n",
      "__________________________________________________________________________________________________\n",
      "activation_35 (Activation)      (None, 10, 10, 128)  0           batch_normalization_35[0][0]     \n",
      "__________________________________________________________________________________________________\n",
      "conv2d_36 (Conv2D)              (None, 10, 10, 128)  114688      activation_35[0][0]              \n",
      "__________________________________________________________________________________________________\n",
      "batch_normalization_36 (BatchNo (None, 10, 10, 128)  384         conv2d_36[0][0]                  \n",
      "__________________________________________________________________________________________________\n",
      "activation_36 (Activation)      (None, 10, 10, 128)  0           batch_normalization_36[0][0]     \n",
      "__________________________________________________________________________________________________\n",
      "conv2d_32 (Conv2D)              (None, 10, 10, 128)  98304       mixed3[0][0]                     \n",
      "__________________________________________________________________________________________________\n",
      "conv2d_37 (Conv2D)              (None, 10, 10, 128)  114688      activation_36[0][0]              \n",
      "__________________________________________________________________________________________________\n",
      "batch_normalization_32 (BatchNo (None, 10, 10, 128)  384         conv2d_32[0][0]                  \n",
      "__________________________________________________________________________________________________\n",
      "batch_normalization_37 (BatchNo (None, 10, 10, 128)  384         conv2d_37[0][0]                  \n",
      "__________________________________________________________________________________________________\n",
      "activation_32 (Activation)      (None, 10, 10, 128)  0           batch_normalization_32[0][0]     \n",
      "__________________________________________________________________________________________________\n",
      "activation_37 (Activation)      (None, 10, 10, 128)  0           batch_normalization_37[0][0]     \n",
      "__________________________________________________________________________________________________\n",
      "conv2d_33 (Conv2D)              (None, 10, 10, 128)  114688      activation_32[0][0]              \n",
      "__________________________________________________________________________________________________\n",
      "conv2d_38 (Conv2D)              (None, 10, 10, 128)  114688      activation_37[0][0]              \n",
      "__________________________________________________________________________________________________\n",
      "batch_normalization_33 (BatchNo (None, 10, 10, 128)  384         conv2d_33[0][0]                  \n",
      "__________________________________________________________________________________________________\n",
      "batch_normalization_38 (BatchNo (None, 10, 10, 128)  384         conv2d_38[0][0]                  \n",
      "__________________________________________________________________________________________________\n",
      "activation_33 (Activation)      (None, 10, 10, 128)  0           batch_normalization_33[0][0]     \n",
      "__________________________________________________________________________________________________\n",
      "activation_38 (Activation)      (None, 10, 10, 128)  0           batch_normalization_38[0][0]     \n",
      "__________________________________________________________________________________________________\n",
      "average_pooling2d_4 (AveragePoo (None, 10, 10, 768)  0           mixed3[0][0]                     \n",
      "__________________________________________________________________________________________________\n",
      "conv2d_31 (Conv2D)              (None, 10, 10, 192)  147456      mixed3[0][0]                     \n",
      "__________________________________________________________________________________________________\n",
      "conv2d_34 (Conv2D)              (None, 10, 10, 192)  172032      activation_33[0][0]              \n",
      "__________________________________________________________________________________________________\n",
      "conv2d_39 (Conv2D)              (None, 10, 10, 192)  172032      activation_38[0][0]              \n",
      "__________________________________________________________________________________________________\n",
      "conv2d_40 (Conv2D)              (None, 10, 10, 192)  147456      average_pooling2d_4[0][0]        \n",
      "__________________________________________________________________________________________________\n",
      "batch_normalization_31 (BatchNo (None, 10, 10, 192)  576         conv2d_31[0][0]                  \n",
      "__________________________________________________________________________________________________\n",
      "batch_normalization_34 (BatchNo (None, 10, 10, 192)  576         conv2d_34[0][0]                  \n",
      "__________________________________________________________________________________________________\n",
      "batch_normalization_39 (BatchNo (None, 10, 10, 192)  576         conv2d_39[0][0]                  \n",
      "__________________________________________________________________________________________________\n",
      "batch_normalization_40 (BatchNo (None, 10, 10, 192)  576         conv2d_40[0][0]                  \n",
      "__________________________________________________________________________________________________\n",
      "activation_31 (Activation)      (None, 10, 10, 192)  0           batch_normalization_31[0][0]     \n",
      "__________________________________________________________________________________________________\n",
      "activation_34 (Activation)      (None, 10, 10, 192)  0           batch_normalization_34[0][0]     \n",
      "__________________________________________________________________________________________________\n",
      "activation_39 (Activation)      (None, 10, 10, 192)  0           batch_normalization_39[0][0]     \n",
      "__________________________________________________________________________________________________\n",
      "activation_40 (Activation)      (None, 10, 10, 192)  0           batch_normalization_40[0][0]     \n",
      "__________________________________________________________________________________________________\n",
      "mixed4 (Concatenate)            (None, 10, 10, 768)  0           activation_31[0][0]              \n",
      "                                                                 activation_34[0][0]              \n",
      "                                                                 activation_39[0][0]              \n",
      "                                                                 activation_40[0][0]              \n",
      "__________________________________________________________________________________________________\n",
      "conv2d_45 (Conv2D)              (None, 10, 10, 160)  122880      mixed4[0][0]                     \n",
      "__________________________________________________________________________________________________\n",
      "batch_normalization_45 (BatchNo (None, 10, 10, 160)  480         conv2d_45[0][0]                  \n",
      "__________________________________________________________________________________________________\n",
      "activation_45 (Activation)      (None, 10, 10, 160)  0           batch_normalization_45[0][0]     \n",
      "__________________________________________________________________________________________________\n",
      "conv2d_46 (Conv2D)              (None, 10, 10, 160)  179200      activation_45[0][0]              \n",
      "__________________________________________________________________________________________________\n",
      "batch_normalization_46 (BatchNo (None, 10, 10, 160)  480         conv2d_46[0][0]                  \n",
      "__________________________________________________________________________________________________\n",
      "activation_46 (Activation)      (None, 10, 10, 160)  0           batch_normalization_46[0][0]     \n",
      "__________________________________________________________________________________________________\n",
      "conv2d_42 (Conv2D)              (None, 10, 10, 160)  122880      mixed4[0][0]                     \n",
      "__________________________________________________________________________________________________\n",
      "conv2d_47 (Conv2D)              (None, 10, 10, 160)  179200      activation_46[0][0]              \n",
      "__________________________________________________________________________________________________\n",
      "batch_normalization_42 (BatchNo (None, 10, 10, 160)  480         conv2d_42[0][0]                  \n",
      "__________________________________________________________________________________________________\n",
      "batch_normalization_47 (BatchNo (None, 10, 10, 160)  480         conv2d_47[0][0]                  \n",
      "__________________________________________________________________________________________________\n",
      "activation_42 (Activation)      (None, 10, 10, 160)  0           batch_normalization_42[0][0]     \n",
      "__________________________________________________________________________________________________\n",
      "activation_47 (Activation)      (None, 10, 10, 160)  0           batch_normalization_47[0][0]     \n",
      "__________________________________________________________________________________________________\n",
      "conv2d_43 (Conv2D)              (None, 10, 10, 160)  179200      activation_42[0][0]              \n",
      "__________________________________________________________________________________________________\n",
      "conv2d_48 (Conv2D)              (None, 10, 10, 160)  179200      activation_47[0][0]              \n",
      "__________________________________________________________________________________________________\n",
      "batch_normalization_43 (BatchNo (None, 10, 10, 160)  480         conv2d_43[0][0]                  \n",
      "__________________________________________________________________________________________________\n",
      "batch_normalization_48 (BatchNo (None, 10, 10, 160)  480         conv2d_48[0][0]                  \n",
      "__________________________________________________________________________________________________\n",
      "activation_43 (Activation)      (None, 10, 10, 160)  0           batch_normalization_43[0][0]     \n",
      "__________________________________________________________________________________________________\n",
      "activation_48 (Activation)      (None, 10, 10, 160)  0           batch_normalization_48[0][0]     \n",
      "__________________________________________________________________________________________________\n",
      "average_pooling2d_5 (AveragePoo (None, 10, 10, 768)  0           mixed4[0][0]                     \n",
      "__________________________________________________________________________________________________\n",
      "conv2d_41 (Conv2D)              (None, 10, 10, 192)  147456      mixed4[0][0]                     \n",
      "__________________________________________________________________________________________________\n",
      "conv2d_44 (Conv2D)              (None, 10, 10, 192)  215040      activation_43[0][0]              \n",
      "__________________________________________________________________________________________________\n",
      "conv2d_49 (Conv2D)              (None, 10, 10, 192)  215040      activation_48[0][0]              \n",
      "__________________________________________________________________________________________________\n",
      "conv2d_50 (Conv2D)              (None, 10, 10, 192)  147456      average_pooling2d_5[0][0]        \n",
      "__________________________________________________________________________________________________\n",
      "batch_normalization_41 (BatchNo (None, 10, 10, 192)  576         conv2d_41[0][0]                  \n",
      "__________________________________________________________________________________________________\n",
      "batch_normalization_44 (BatchNo (None, 10, 10, 192)  576         conv2d_44[0][0]                  \n",
      "__________________________________________________________________________________________________\n",
      "batch_normalization_49 (BatchNo (None, 10, 10, 192)  576         conv2d_49[0][0]                  \n",
      "__________________________________________________________________________________________________\n",
      "batch_normalization_50 (BatchNo (None, 10, 10, 192)  576         conv2d_50[0][0]                  \n",
      "__________________________________________________________________________________________________\n",
      "activation_41 (Activation)      (None, 10, 10, 192)  0           batch_normalization_41[0][0]     \n",
      "__________________________________________________________________________________________________\n",
      "activation_44 (Activation)      (None, 10, 10, 192)  0           batch_normalization_44[0][0]     \n",
      "__________________________________________________________________________________________________\n",
      "activation_49 (Activation)      (None, 10, 10, 192)  0           batch_normalization_49[0][0]     \n",
      "__________________________________________________________________________________________________\n",
      "activation_50 (Activation)      (None, 10, 10, 192)  0           batch_normalization_50[0][0]     \n",
      "__________________________________________________________________________________________________\n",
      "mixed5 (Concatenate)            (None, 10, 10, 768)  0           activation_41[0][0]              \n",
      "                                                                 activation_44[0][0]              \n",
      "                                                                 activation_49[0][0]              \n",
      "                                                                 activation_50[0][0]              \n",
      "__________________________________________________________________________________________________\n",
      "conv2d_55 (Conv2D)              (None, 10, 10, 160)  122880      mixed5[0][0]                     \n",
      "__________________________________________________________________________________________________\n",
      "batch_normalization_55 (BatchNo (None, 10, 10, 160)  480         conv2d_55[0][0]                  \n",
      "__________________________________________________________________________________________________\n",
      "activation_55 (Activation)      (None, 10, 10, 160)  0           batch_normalization_55[0][0]     \n",
      "__________________________________________________________________________________________________\n",
      "conv2d_56 (Conv2D)              (None, 10, 10, 160)  179200      activation_55[0][0]              \n",
      "__________________________________________________________________________________________________\n",
      "batch_normalization_56 (BatchNo (None, 10, 10, 160)  480         conv2d_56[0][0]                  \n",
      "__________________________________________________________________________________________________\n",
      "activation_56 (Activation)      (None, 10, 10, 160)  0           batch_normalization_56[0][0]     \n",
      "__________________________________________________________________________________________________\n",
      "conv2d_52 (Conv2D)              (None, 10, 10, 160)  122880      mixed5[0][0]                     \n",
      "__________________________________________________________________________________________________\n",
      "conv2d_57 (Conv2D)              (None, 10, 10, 160)  179200      activation_56[0][0]              \n",
      "__________________________________________________________________________________________________\n",
      "batch_normalization_52 (BatchNo (None, 10, 10, 160)  480         conv2d_52[0][0]                  \n",
      "__________________________________________________________________________________________________\n",
      "batch_normalization_57 (BatchNo (None, 10, 10, 160)  480         conv2d_57[0][0]                  \n",
      "__________________________________________________________________________________________________\n",
      "activation_52 (Activation)      (None, 10, 10, 160)  0           batch_normalization_52[0][0]     \n",
      "__________________________________________________________________________________________________\n",
      "activation_57 (Activation)      (None, 10, 10, 160)  0           batch_normalization_57[0][0]     \n",
      "__________________________________________________________________________________________________\n",
      "conv2d_53 (Conv2D)              (None, 10, 10, 160)  179200      activation_52[0][0]              \n",
      "__________________________________________________________________________________________________\n",
      "conv2d_58 (Conv2D)              (None, 10, 10, 160)  179200      activation_57[0][0]              \n",
      "__________________________________________________________________________________________________\n",
      "batch_normalization_53 (BatchNo (None, 10, 10, 160)  480         conv2d_53[0][0]                  \n",
      "__________________________________________________________________________________________________\n",
      "batch_normalization_58 (BatchNo (None, 10, 10, 160)  480         conv2d_58[0][0]                  \n",
      "__________________________________________________________________________________________________\n",
      "activation_53 (Activation)      (None, 10, 10, 160)  0           batch_normalization_53[0][0]     \n",
      "__________________________________________________________________________________________________\n",
      "activation_58 (Activation)      (None, 10, 10, 160)  0           batch_normalization_58[0][0]     \n",
      "__________________________________________________________________________________________________\n",
      "average_pooling2d_6 (AveragePoo (None, 10, 10, 768)  0           mixed5[0][0]                     \n",
      "__________________________________________________________________________________________________\n",
      "conv2d_51 (Conv2D)              (None, 10, 10, 192)  147456      mixed5[0][0]                     \n",
      "__________________________________________________________________________________________________\n",
      "conv2d_54 (Conv2D)              (None, 10, 10, 192)  215040      activation_53[0][0]              \n",
      "__________________________________________________________________________________________________\n",
      "conv2d_59 (Conv2D)              (None, 10, 10, 192)  215040      activation_58[0][0]              \n",
      "__________________________________________________________________________________________________\n",
      "conv2d_60 (Conv2D)              (None, 10, 10, 192)  147456      average_pooling2d_6[0][0]        \n",
      "__________________________________________________________________________________________________\n",
      "batch_normalization_51 (BatchNo (None, 10, 10, 192)  576         conv2d_51[0][0]                  \n",
      "__________________________________________________________________________________________________\n",
      "batch_normalization_54 (BatchNo (None, 10, 10, 192)  576         conv2d_54[0][0]                  \n",
      "__________________________________________________________________________________________________\n",
      "batch_normalization_59 (BatchNo (None, 10, 10, 192)  576         conv2d_59[0][0]                  \n",
      "__________________________________________________________________________________________________\n",
      "batch_normalization_60 (BatchNo (None, 10, 10, 192)  576         conv2d_60[0][0]                  \n",
      "__________________________________________________________________________________________________\n",
      "activation_51 (Activation)      (None, 10, 10, 192)  0           batch_normalization_51[0][0]     \n",
      "__________________________________________________________________________________________________\n",
      "activation_54 (Activation)      (None, 10, 10, 192)  0           batch_normalization_54[0][0]     \n",
      "__________________________________________________________________________________________________\n",
      "activation_59 (Activation)      (None, 10, 10, 192)  0           batch_normalization_59[0][0]     \n",
      "__________________________________________________________________________________________________\n",
      "activation_60 (Activation)      (None, 10, 10, 192)  0           batch_normalization_60[0][0]     \n",
      "__________________________________________________________________________________________________\n",
      "mixed6 (Concatenate)            (None, 10, 10, 768)  0           activation_51[0][0]              \n",
      "                                                                 activation_54[0][0]              \n",
      "                                                                 activation_59[0][0]              \n",
      "                                                                 activation_60[0][0]              \n",
      "__________________________________________________________________________________________________\n",
      "conv2d_65 (Conv2D)              (None, 10, 10, 192)  147456      mixed6[0][0]                     \n",
      "__________________________________________________________________________________________________\n",
      "batch_normalization_65 (BatchNo (None, 10, 10, 192)  576         conv2d_65[0][0]                  \n",
      "__________________________________________________________________________________________________\n",
      "activation_65 (Activation)      (None, 10, 10, 192)  0           batch_normalization_65[0][0]     \n",
      "__________________________________________________________________________________________________\n",
      "conv2d_66 (Conv2D)              (None, 10, 10, 192)  258048      activation_65[0][0]              \n",
      "__________________________________________________________________________________________________\n",
      "batch_normalization_66 (BatchNo (None, 10, 10, 192)  576         conv2d_66[0][0]                  \n",
      "__________________________________________________________________________________________________\n",
      "activation_66 (Activation)      (None, 10, 10, 192)  0           batch_normalization_66[0][0]     \n",
      "__________________________________________________________________________________________________\n",
      "conv2d_62 (Conv2D)              (None, 10, 10, 192)  147456      mixed6[0][0]                     \n",
      "__________________________________________________________________________________________________\n",
      "conv2d_67 (Conv2D)              (None, 10, 10, 192)  258048      activation_66[0][0]              \n",
      "__________________________________________________________________________________________________\n",
      "batch_normalization_62 (BatchNo (None, 10, 10, 192)  576         conv2d_62[0][0]                  \n",
      "__________________________________________________________________________________________________\n",
      "batch_normalization_67 (BatchNo (None, 10, 10, 192)  576         conv2d_67[0][0]                  \n",
      "__________________________________________________________________________________________________\n",
      "activation_62 (Activation)      (None, 10, 10, 192)  0           batch_normalization_62[0][0]     \n",
      "__________________________________________________________________________________________________\n",
      "activation_67 (Activation)      (None, 10, 10, 192)  0           batch_normalization_67[0][0]     \n",
      "__________________________________________________________________________________________________\n",
      "conv2d_63 (Conv2D)              (None, 10, 10, 192)  258048      activation_62[0][0]              \n",
      "__________________________________________________________________________________________________\n",
      "conv2d_68 (Conv2D)              (None, 10, 10, 192)  258048      activation_67[0][0]              \n",
      "__________________________________________________________________________________________________\n",
      "batch_normalization_63 (BatchNo (None, 10, 10, 192)  576         conv2d_63[0][0]                  \n",
      "__________________________________________________________________________________________________\n",
      "batch_normalization_68 (BatchNo (None, 10, 10, 192)  576         conv2d_68[0][0]                  \n",
      "__________________________________________________________________________________________________\n",
      "activation_63 (Activation)      (None, 10, 10, 192)  0           batch_normalization_63[0][0]     \n",
      "__________________________________________________________________________________________________\n",
      "activation_68 (Activation)      (None, 10, 10, 192)  0           batch_normalization_68[0][0]     \n",
      "__________________________________________________________________________________________________\n",
      "average_pooling2d_7 (AveragePoo (None, 10, 10, 768)  0           mixed6[0][0]                     \n",
      "__________________________________________________________________________________________________\n",
      "conv2d_61 (Conv2D)              (None, 10, 10, 192)  147456      mixed6[0][0]                     \n",
      "__________________________________________________________________________________________________\n",
      "conv2d_64 (Conv2D)              (None, 10, 10, 192)  258048      activation_63[0][0]              \n",
      "__________________________________________________________________________________________________\n",
      "conv2d_69 (Conv2D)              (None, 10, 10, 192)  258048      activation_68[0][0]              \n",
      "__________________________________________________________________________________________________\n",
      "conv2d_70 (Conv2D)              (None, 10, 10, 192)  147456      average_pooling2d_7[0][0]        \n",
      "__________________________________________________________________________________________________\n",
      "batch_normalization_61 (BatchNo (None, 10, 10, 192)  576         conv2d_61[0][0]                  \n",
      "__________________________________________________________________________________________________\n",
      "batch_normalization_64 (BatchNo (None, 10, 10, 192)  576         conv2d_64[0][0]                  \n",
      "__________________________________________________________________________________________________\n",
      "batch_normalization_69 (BatchNo (None, 10, 10, 192)  576         conv2d_69[0][0]                  \n",
      "__________________________________________________________________________________________________\n",
      "batch_normalization_70 (BatchNo (None, 10, 10, 192)  576         conv2d_70[0][0]                  \n",
      "__________________________________________________________________________________________________\n",
      "activation_61 (Activation)      (None, 10, 10, 192)  0           batch_normalization_61[0][0]     \n",
      "__________________________________________________________________________________________________\n",
      "activation_64 (Activation)      (None, 10, 10, 192)  0           batch_normalization_64[0][0]     \n",
      "__________________________________________________________________________________________________\n",
      "activation_69 (Activation)      (None, 10, 10, 192)  0           batch_normalization_69[0][0]     \n",
      "__________________________________________________________________________________________________\n",
      "activation_70 (Activation)      (None, 10, 10, 192)  0           batch_normalization_70[0][0]     \n",
      "__________________________________________________________________________________________________\n",
      "mixed7 (Concatenate)            (None, 10, 10, 768)  0           activation_61[0][0]              \n",
      "                                                                 activation_64[0][0]              \n",
      "                                                                 activation_69[0][0]              \n",
      "                                                                 activation_70[0][0]              \n",
      "__________________________________________________________________________________________________\n",
      "conv2d_73 (Conv2D)              (None, 10, 10, 192)  147456      mixed7[0][0]                     \n",
      "__________________________________________________________________________________________________\n",
      "batch_normalization_73 (BatchNo (None, 10, 10, 192)  576         conv2d_73[0][0]                  \n",
      "__________________________________________________________________________________________________\n",
      "activation_73 (Activation)      (None, 10, 10, 192)  0           batch_normalization_73[0][0]     \n",
      "__________________________________________________________________________________________________\n",
      "conv2d_74 (Conv2D)              (None, 10, 10, 192)  258048      activation_73[0][0]              \n",
      "__________________________________________________________________________________________________\n",
      "batch_normalization_74 (BatchNo (None, 10, 10, 192)  576         conv2d_74[0][0]                  \n",
      "__________________________________________________________________________________________________\n",
      "activation_74 (Activation)      (None, 10, 10, 192)  0           batch_normalization_74[0][0]     \n",
      "__________________________________________________________________________________________________\n",
      "conv2d_71 (Conv2D)              (None, 10, 10, 192)  147456      mixed7[0][0]                     \n",
      "__________________________________________________________________________________________________\n",
      "conv2d_75 (Conv2D)              (None, 10, 10, 192)  258048      activation_74[0][0]              \n",
      "__________________________________________________________________________________________________\n",
      "batch_normalization_71 (BatchNo (None, 10, 10, 192)  576         conv2d_71[0][0]                  \n",
      "__________________________________________________________________________________________________\n",
      "batch_normalization_75 (BatchNo (None, 10, 10, 192)  576         conv2d_75[0][0]                  \n",
      "__________________________________________________________________________________________________\n",
      "activation_71 (Activation)      (None, 10, 10, 192)  0           batch_normalization_71[0][0]     \n",
      "__________________________________________________________________________________________________\n",
      "activation_75 (Activation)      (None, 10, 10, 192)  0           batch_normalization_75[0][0]     \n",
      "__________________________________________________________________________________________________\n",
      "conv2d_72 (Conv2D)              (None, 4, 4, 320)    552960      activation_71[0][0]              \n",
      "__________________________________________________________________________________________________\n",
      "conv2d_76 (Conv2D)              (None, 4, 4, 192)    331776      activation_75[0][0]              \n",
      "__________________________________________________________________________________________________\n",
      "batch_normalization_72 (BatchNo (None, 4, 4, 320)    960         conv2d_72[0][0]                  \n",
      "__________________________________________________________________________________________________\n",
      "batch_normalization_76 (BatchNo (None, 4, 4, 192)    576         conv2d_76[0][0]                  \n",
      "__________________________________________________________________________________________________\n",
      "activation_72 (Activation)      (None, 4, 4, 320)    0           batch_normalization_72[0][0]     \n",
      "__________________________________________________________________________________________________\n",
      "activation_76 (Activation)      (None, 4, 4, 192)    0           batch_normalization_76[0][0]     \n",
      "__________________________________________________________________________________________________\n",
      "max_pooling2d_4 (MaxPooling2D)  (None, 4, 4, 768)    0           mixed7[0][0]                     \n",
      "__________________________________________________________________________________________________\n",
      "mixed8 (Concatenate)            (None, 4, 4, 1280)   0           activation_72[0][0]              \n",
      "                                                                 activation_76[0][0]              \n",
      "                                                                 max_pooling2d_4[0][0]            \n",
      "__________________________________________________________________________________________________\n",
      "conv2d_81 (Conv2D)              (None, 4, 4, 448)    573440      mixed8[0][0]                     \n",
      "__________________________________________________________________________________________________\n",
      "batch_normalization_81 (BatchNo (None, 4, 4, 448)    1344        conv2d_81[0][0]                  \n",
      "__________________________________________________________________________________________________\n",
      "activation_81 (Activation)      (None, 4, 4, 448)    0           batch_normalization_81[0][0]     \n",
      "__________________________________________________________________________________________________\n",
      "conv2d_78 (Conv2D)              (None, 4, 4, 384)    491520      mixed8[0][0]                     \n",
      "__________________________________________________________________________________________________\n",
      "conv2d_82 (Conv2D)              (None, 4, 4, 384)    1548288     activation_81[0][0]              \n",
      "__________________________________________________________________________________________________\n",
      "batch_normalization_78 (BatchNo (None, 4, 4, 384)    1152        conv2d_78[0][0]                  \n",
      "__________________________________________________________________________________________________\n",
      "batch_normalization_82 (BatchNo (None, 4, 4, 384)    1152        conv2d_82[0][0]                  \n",
      "__________________________________________________________________________________________________\n",
      "activation_78 (Activation)      (None, 4, 4, 384)    0           batch_normalization_78[0][0]     \n",
      "__________________________________________________________________________________________________\n",
      "activation_82 (Activation)      (None, 4, 4, 384)    0           batch_normalization_82[0][0]     \n",
      "__________________________________________________________________________________________________\n",
      "conv2d_79 (Conv2D)              (None, 4, 4, 384)    442368      activation_78[0][0]              \n",
      "__________________________________________________________________________________________________\n",
      "conv2d_80 (Conv2D)              (None, 4, 4, 384)    442368      activation_78[0][0]              \n",
      "__________________________________________________________________________________________________\n",
      "conv2d_83 (Conv2D)              (None, 4, 4, 384)    442368      activation_82[0][0]              \n",
      "__________________________________________________________________________________________________\n",
      "conv2d_84 (Conv2D)              (None, 4, 4, 384)    442368      activation_82[0][0]              \n",
      "__________________________________________________________________________________________________\n",
      "average_pooling2d_8 (AveragePoo (None, 4, 4, 1280)   0           mixed8[0][0]                     \n",
      "__________________________________________________________________________________________________\n",
      "conv2d_77 (Conv2D)              (None, 4, 4, 320)    409600      mixed8[0][0]                     \n",
      "__________________________________________________________________________________________________\n",
      "batch_normalization_79 (BatchNo (None, 4, 4, 384)    1152        conv2d_79[0][0]                  \n",
      "__________________________________________________________________________________________________\n",
      "batch_normalization_80 (BatchNo (None, 4, 4, 384)    1152        conv2d_80[0][0]                  \n",
      "__________________________________________________________________________________________________\n",
      "batch_normalization_83 (BatchNo (None, 4, 4, 384)    1152        conv2d_83[0][0]                  \n",
      "__________________________________________________________________________________________________\n",
      "batch_normalization_84 (BatchNo (None, 4, 4, 384)    1152        conv2d_84[0][0]                  \n",
      "__________________________________________________________________________________________________\n",
      "conv2d_85 (Conv2D)              (None, 4, 4, 192)    245760      average_pooling2d_8[0][0]        \n",
      "__________________________________________________________________________________________________\n",
      "batch_normalization_77 (BatchNo (None, 4, 4, 320)    960         conv2d_77[0][0]                  \n",
      "__________________________________________________________________________________________________\n",
      "activation_79 (Activation)      (None, 4, 4, 384)    0           batch_normalization_79[0][0]     \n",
      "__________________________________________________________________________________________________\n",
      "activation_80 (Activation)      (None, 4, 4, 384)    0           batch_normalization_80[0][0]     \n",
      "__________________________________________________________________________________________________\n",
      "activation_83 (Activation)      (None, 4, 4, 384)    0           batch_normalization_83[0][0]     \n",
      "__________________________________________________________________________________________________\n",
      "activation_84 (Activation)      (None, 4, 4, 384)    0           batch_normalization_84[0][0]     \n",
      "__________________________________________________________________________________________________\n",
      "batch_normalization_85 (BatchNo (None, 4, 4, 192)    576         conv2d_85[0][0]                  \n",
      "__________________________________________________________________________________________________\n",
      "activation_77 (Activation)      (None, 4, 4, 320)    0           batch_normalization_77[0][0]     \n",
      "__________________________________________________________________________________________________\n",
      "mixed9_0 (Concatenate)          (None, 4, 4, 768)    0           activation_79[0][0]              \n",
      "                                                                 activation_80[0][0]              \n",
      "__________________________________________________________________________________________________\n",
      "concatenate_1 (Concatenate)     (None, 4, 4, 768)    0           activation_83[0][0]              \n",
      "                                                                 activation_84[0][0]              \n",
      "__________________________________________________________________________________________________\n",
      "activation_85 (Activation)      (None, 4, 4, 192)    0           batch_normalization_85[0][0]     \n",
      "__________________________________________________________________________________________________\n",
      "mixed9 (Concatenate)            (None, 4, 4, 2048)   0           activation_77[0][0]              \n",
      "                                                                 mixed9_0[0][0]                   \n",
      "                                                                 concatenate_1[0][0]              \n",
      "                                                                 activation_85[0][0]              \n",
      "__________________________________________________________________________________________________\n",
      "conv2d_90 (Conv2D)              (None, 4, 4, 448)    917504      mixed9[0][0]                     \n",
      "__________________________________________________________________________________________________\n",
      "batch_normalization_90 (BatchNo (None, 4, 4, 448)    1344        conv2d_90[0][0]                  \n",
      "__________________________________________________________________________________________________\n",
      "activation_90 (Activation)      (None, 4, 4, 448)    0           batch_normalization_90[0][0]     \n",
      "__________________________________________________________________________________________________\n",
      "conv2d_87 (Conv2D)              (None, 4, 4, 384)    786432      mixed9[0][0]                     \n",
      "__________________________________________________________________________________________________\n",
      "conv2d_91 (Conv2D)              (None, 4, 4, 384)    1548288     activation_90[0][0]              \n",
      "__________________________________________________________________________________________________\n",
      "batch_normalization_87 (BatchNo (None, 4, 4, 384)    1152        conv2d_87[0][0]                  \n",
      "__________________________________________________________________________________________________\n",
      "batch_normalization_91 (BatchNo (None, 4, 4, 384)    1152        conv2d_91[0][0]                  \n",
      "__________________________________________________________________________________________________\n",
      "activation_87 (Activation)      (None, 4, 4, 384)    0           batch_normalization_87[0][0]     \n",
      "__________________________________________________________________________________________________\n",
      "activation_91 (Activation)      (None, 4, 4, 384)    0           batch_normalization_91[0][0]     \n",
      "__________________________________________________________________________________________________\n",
      "conv2d_88 (Conv2D)              (None, 4, 4, 384)    442368      activation_87[0][0]              \n",
      "__________________________________________________________________________________________________\n",
      "conv2d_89 (Conv2D)              (None, 4, 4, 384)    442368      activation_87[0][0]              \n",
      "__________________________________________________________________________________________________\n",
      "conv2d_92 (Conv2D)              (None, 4, 4, 384)    442368      activation_91[0][0]              \n",
      "__________________________________________________________________________________________________\n",
      "conv2d_93 (Conv2D)              (None, 4, 4, 384)    442368      activation_91[0][0]              \n",
      "__________________________________________________________________________________________________\n",
      "average_pooling2d_9 (AveragePoo (None, 4, 4, 2048)   0           mixed9[0][0]                     \n",
      "__________________________________________________________________________________________________\n",
      "conv2d_86 (Conv2D)              (None, 4, 4, 320)    655360      mixed9[0][0]                     \n",
      "__________________________________________________________________________________________________\n",
      "batch_normalization_88 (BatchNo (None, 4, 4, 384)    1152        conv2d_88[0][0]                  \n",
      "__________________________________________________________________________________________________\n",
      "batch_normalization_89 (BatchNo (None, 4, 4, 384)    1152        conv2d_89[0][0]                  \n",
      "__________________________________________________________________________________________________\n",
      "batch_normalization_92 (BatchNo (None, 4, 4, 384)    1152        conv2d_92[0][0]                  \n",
      "__________________________________________________________________________________________________\n",
      "batch_normalization_93 (BatchNo (None, 4, 4, 384)    1152        conv2d_93[0][0]                  \n",
      "__________________________________________________________________________________________________\n",
      "conv2d_94 (Conv2D)              (None, 4, 4, 192)    393216      average_pooling2d_9[0][0]        \n",
      "__________________________________________________________________________________________________\n",
      "batch_normalization_86 (BatchNo (None, 4, 4, 320)    960         conv2d_86[0][0]                  \n",
      "__________________________________________________________________________________________________\n",
      "activation_88 (Activation)      (None, 4, 4, 384)    0           batch_normalization_88[0][0]     \n",
      "__________________________________________________________________________________________________\n",
      "activation_89 (Activation)      (None, 4, 4, 384)    0           batch_normalization_89[0][0]     \n",
      "__________________________________________________________________________________________________\n",
      "activation_92 (Activation)      (None, 4, 4, 384)    0           batch_normalization_92[0][0]     \n",
      "__________________________________________________________________________________________________\n",
      "activation_93 (Activation)      (None, 4, 4, 384)    0           batch_normalization_93[0][0]     \n",
      "__________________________________________________________________________________________________\n",
      "batch_normalization_94 (BatchNo (None, 4, 4, 192)    576         conv2d_94[0][0]                  \n",
      "__________________________________________________________________________________________________\n",
      "activation_86 (Activation)      (None, 4, 4, 320)    0           batch_normalization_86[0][0]     \n",
      "__________________________________________________________________________________________________\n",
      "mixed9_1 (Concatenate)          (None, 4, 4, 768)    0           activation_88[0][0]              \n",
      "                                                                 activation_89[0][0]              \n",
      "__________________________________________________________________________________________________\n",
      "concatenate_2 (Concatenate)     (None, 4, 4, 768)    0           activation_92[0][0]              \n",
      "                                                                 activation_93[0][0]              \n",
      "__________________________________________________________________________________________________\n",
      "activation_94 (Activation)      (None, 4, 4, 192)    0           batch_normalization_94[0][0]     \n",
      "__________________________________________________________________________________________________\n",
      "mixed10 (Concatenate)           (None, 4, 4, 2048)   0           activation_86[0][0]              \n",
      "                                                                 mixed9_1[0][0]                   \n",
      "                                                                 concatenate_2[0][0]              \n",
      "                                                                 activation_94[0][0]              \n",
      "__________________________________________________________________________________________________\n",
      "global_average_pooling2d_1 (Glo (None, 2048)         0           mixed10[0][0]                    \n",
      "__________________________________________________________________________________________________\n",
      "dense_1 (Dense)                 (None, 1024)         2098176     global_average_pooling2d_1[0][0] \n",
      "__________________________________________________________________________________________________\n",
      "dense_2 (Dense)                 (None, 80)           82000       dense_1[0][0]                    \n",
      "==================================================================================================\n",
      "Total params: 23,982,960\n",
      "Trainable params: 23,948,528\n",
      "Non-trainable params: 34,432\n",
      "__________________________________________________________________________________________________\n"
     ]
    }
   ],
   "source": [
    "base_model = InceptionV3(weights='imagenet', include_top=False,\n",
    "                         input_shape=(200, 200, 3))\n",
    "\n",
    "x = base_model.output\n",
    "\n",
    "# adding a global spatial average pooling layer\n",
    "x = GlobalAveragePooling2D()(x)\n",
    "\n",
    "# adding feature layer\n",
    "features = Dense(1024, activation='relu')(x)\n",
    "\n",
    "# prediction layer\n",
    "predictions = Dense(num_classes, activation='sigmoid')(features)\n",
    "\n",
    "model = Model(inputs=base_model.input, outputs=predictions)\n",
    "\n",
    "model.summary()"
   ]
  },
  {
   "cell_type": "markdown",
   "metadata": {
    "colab_type": "text",
    "id": "MQOm7krpPkOS"
   },
   "source": [
    "### Preprocessing and Data Augmentation"
   ]
  },
  {
   "cell_type": "code",
   "execution_count": null,
   "metadata": {
    "colab": {},
    "colab_type": "code",
    "id": "5sX-jJtsPjvu"
   },
   "outputs": [],
   "source": [
    "# inceptionv3 preprocess\n",
    "images_array = preprocess_input(images_array)\n",
    "\n",
    "# data augmentation\n",
    "aug_data = ImageDataGenerator(\n",
    "    featurewise_center=False,\n",
    "    samplewise_center=False,\n",
    "    featurewise_std_normalization=False,\n",
    "    samplewise_std_normalization=False,\n",
    "    zca_whitening=False,\n",
    "    rotation_range=15,\n",
    "    width_shift_range=0.1,\n",
    "    height_shift_range=0.1,\n",
    "    horizontal_flip=True,\n",
    "    vertical_flip=True\n",
    "    )\n",
    "aug_data.fit(images_array[:13000])"
   ]
  },
  {
   "cell_type": "markdown",
   "metadata": {
    "colab_type": "text",
    "id": "cjasDYbCMhLk"
   },
   "source": [
    "### Training CNN(First Part)"
   ]
  },
  {
   "cell_type": "code",
   "execution_count": null,
   "metadata": {
    "colab": {
     "base_uri": "https://localhost:8080/",
     "height": 1000
    },
    "colab_type": "code",
    "id": "kL8o8xZzMgSU",
    "outputId": "c672fe2a-7726-417e-f692-88dfe70d650c"
   },
   "outputs": [
    {
     "name": "stdout",
     "output_type": "stream",
     "text": [
      "Epoch 1/20\n",
      "203/203 [==============================] - 115s 564ms/step - loss: 0.1280 - acc: 0.9636 - val_loss: 0.1226 - val_acc: 0.9682\n",
      "\n",
      "Epoch 00001: val_acc improved from -inf to 0.96820, saving model to drive/My Drive/Colab Notebooks/cp.top.best.hdf5\n",
      "Epoch 2/20\n",
      "203/203 [==============================] - 112s 552ms/step - loss: 0.1049 - acc: 0.9680 - val_loss: 0.1173 - val_acc: 0.9687\n",
      "\n",
      "Epoch 00002: val_acc improved from 0.96820 to 0.96870, saving model to drive/My Drive/Colab Notebooks/cp.top.best.hdf5\n",
      "Epoch 3/20\n",
      "203/203 [==============================] - 112s 550ms/step - loss: 0.1004 - acc: 0.9688 - val_loss: 0.1029 - val_acc: 0.9706\n",
      "\n",
      "Epoch 00003: val_acc improved from 0.96870 to 0.97064, saving model to drive/My Drive/Colab Notebooks/cp.top.best.hdf5\n",
      "Epoch 4/20\n",
      "203/203 [==============================] - 111s 546ms/step - loss: 0.0975 - acc: 0.9693 - val_loss: 0.1091 - val_acc: 0.9688\n",
      "\n",
      "Epoch 00004: val_acc did not improve from 0.97064\n",
      "Epoch 5/20\n",
      "203/203 [==============================] - 111s 546ms/step - loss: 0.0956 - acc: 0.9697 - val_loss: 0.1106 - val_acc: 0.9726\n",
      "\n",
      "Epoch 00005: val_acc improved from 0.97064 to 0.97260, saving model to drive/My Drive/Colab Notebooks/cp.top.best.hdf5\n",
      "Epoch 6/20\n",
      "203/203 [==============================] - 110s 540ms/step - loss: 0.0943 - acc: 0.9700 - val_loss: 0.1044 - val_acc: 0.9722\n",
      "\n",
      "Epoch 00006: val_acc did not improve from 0.97260\n",
      "Epoch 7/20\n",
      "203/203 [==============================] - 110s 539ms/step - loss: 0.0929 - acc: 0.9702 - val_loss: 0.0995 - val_acc: 0.9702\n",
      "\n",
      "Epoch 00007: val_acc did not improve from 0.97260\n",
      "Epoch 8/20\n",
      "203/203 [==============================] - 110s 544ms/step - loss: 0.0921 - acc: 0.9706 - val_loss: 0.1036 - val_acc: 0.9716\n",
      "\n",
      "Epoch 00008: val_acc did not improve from 0.97260\n",
      "Epoch 9/20\n",
      "203/203 [==============================] - 111s 546ms/step - loss: 0.0912 - acc: 0.9707 - val_loss: 0.1013 - val_acc: 0.9722\n",
      "\n",
      "Epoch 00009: val_acc did not improve from 0.97260\n",
      "Epoch 10/20\n",
      "203/203 [==============================] - 111s 547ms/step - loss: 0.0904 - acc: 0.9707 - val_loss: 0.1043 - val_acc: 0.9726\n",
      "\n",
      "Epoch 00010: val_acc did not improve from 0.97260\n",
      "Epoch 11/20\n",
      "203/203 [==============================] - 111s 546ms/step - loss: 0.0898 - acc: 0.9710 - val_loss: 0.0978 - val_acc: 0.9723\n",
      "\n",
      "Epoch 00011: val_acc did not improve from 0.97260\n",
      "Epoch 12/20\n",
      "203/203 [==============================] - 111s 545ms/step - loss: 0.0894 - acc: 0.9711 - val_loss: 0.0957 - val_acc: 0.9709\n",
      "\n",
      "Epoch 00012: val_acc did not improve from 0.97260\n",
      "Epoch 13/20\n",
      "203/203 [==============================] - 110s 544ms/step - loss: 0.0888 - acc: 0.9710 - val_loss: 0.1034 - val_acc: 0.9712\n",
      "\n",
      "Epoch 00013: val_acc did not improve from 0.97260\n",
      "Epoch 14/20\n",
      "203/203 [==============================] - 111s 544ms/step - loss: 0.0875 - acc: 0.9714 - val_loss: 0.0968 - val_acc: 0.9721\n",
      "\n",
      "Epoch 00014: val_acc did not improve from 0.97260\n",
      "Epoch 15/20\n",
      "203/203 [==============================] - 110s 544ms/step - loss: 0.0879 - acc: 0.9713 - val_loss: 0.0946 - val_acc: 0.9714\n",
      "\n",
      "Epoch 00015: val_acc did not improve from 0.97260\n",
      "Epoch 16/20\n",
      "203/203 [==============================] - 110s 544ms/step - loss: 0.0866 - acc: 0.9716 - val_loss: 0.1030 - val_acc: 0.9705\n",
      "\n",
      "Epoch 00016: val_acc did not improve from 0.97260\n",
      "Epoch 17/20\n",
      "203/203 [==============================] - 111s 546ms/step - loss: 0.0869 - acc: 0.9716 - val_loss: 0.0964 - val_acc: 0.9725\n",
      "\n",
      "Epoch 00017: val_acc did not improve from 0.97260\n",
      "Epoch 18/20\n",
      "203/203 [==============================] - 110s 544ms/step - loss: 0.0862 - acc: 0.9718 - val_loss: 0.0963 - val_acc: 0.9703\n",
      "\n",
      "Epoch 00018: val_acc did not improve from 0.97260\n",
      "Epoch 19/20\n",
      "203/203 [==============================] - 109s 535ms/step - loss: 0.0856 - acc: 0.9719 - val_loss: 0.1050 - val_acc: 0.9725\n",
      "\n",
      "Epoch 00019: val_acc did not improve from 0.97260\n",
      "Epoch 20/20\n",
      "203/203 [==============================] - 108s 532ms/step - loss: 0.0857 - acc: 0.9718 - val_loss: 0.1115 - val_acc: 0.9722\n",
      "\n",
      "Epoch 00020: val_acc did not improve from 0.97260\n"
     ]
    }
   ],
   "source": [
    "# freezing base model layers\n",
    "for layer in base_model.layers:\n",
    "  layer.trainable = False\n",
    "\n",
    "# hyperparameters\n",
    "learning_rate = 0.0005\n",
    "batch_size = 64\n",
    "epochs = 20\n",
    "\n",
    "# optimizer\n",
    "opt = optimizers.rmsprop(lr=learning_rate, decay=1e-6)\n",
    "\n",
    "# compile\n",
    "model.compile(optimizer=opt, loss='binary_crossentropy', metrics=['accuracy'])\n",
    "\n",
    "# callback\n",
    "file_path = 'drive/My Drive/Colab Notebooks/cp.top.best.hdf5'\n",
    "mcp = ModelCheckpoint(file_path, monitor='val_acc', verbose=1,\n",
    "                      save_best_only=True, save_weights_only=False, mode='auto',\n",
    "                      period=1)\n",
    "\n",
    "history = model.fit_generator(aug_data.flow(images_array[:13000], targets_oh[:13000], batch_size=batch_size),\n",
    "                    steps_per_epoch=images_array[:13000].shape[0] // batch_size,\n",
    "                    epochs=epochs, verbose=1, callbacks=[mcp],\n",
    "                     validation_data=(images_array[13000:], targets_oh[13000:]))"
   ]
  },
  {
   "cell_type": "markdown",
   "metadata": {
    "colab_type": "text",
    "id": "VX6arvilbCFa"
   },
   "source": [
    "### Training CNN(Second Part)"
   ]
  },
  {
   "cell_type": "code",
   "execution_count": null,
   "metadata": {
    "colab": {
     "base_uri": "https://localhost:8080/",
     "height": 1000
    },
    "colab_type": "code",
    "id": "-VKWfvdfSWl8",
    "outputId": "d8592717-d3fa-495f-ba4a-05acd15d35a5"
   },
   "outputs": [
    {
     "name": "stdout",
     "output_type": "stream",
     "text": [
      "Epoch 1/30\n",
      "203/203 [==============================] - 114s 560ms/step - loss: 0.0928 - acc: 0.9702 - val_loss: 0.1110 - val_acc: 0.9725\n",
      "\n",
      "Epoch 00001: val_acc improved from -inf to 0.97250, saving model to drive/My Drive/Colab Notebooks/cp.fine_tuned.best.hdf5\n",
      "Epoch 2/30\n",
      "203/203 [==============================] - 111s 549ms/step - loss: 0.0927 - acc: 0.9702 - val_loss: 0.1102 - val_acc: 0.9725\n",
      "\n",
      "Epoch 00002: val_acc did not improve from 0.97250\n",
      "Epoch 3/30\n",
      "203/203 [==============================] - 109s 539ms/step - loss: 0.0923 - acc: 0.9703 - val_loss: 0.1095 - val_acc: 0.9725\n",
      "\n",
      "Epoch 00003: val_acc did not improve from 0.97250\n",
      "Epoch 4/30\n",
      "203/203 [==============================] - 110s 541ms/step - loss: 0.0919 - acc: 0.9704 - val_loss: 0.1089 - val_acc: 0.9724\n",
      "\n",
      "Epoch 00004: val_acc did not improve from 0.97250\n",
      "Epoch 5/30\n",
      "203/203 [==============================] - 109s 535ms/step - loss: 0.0916 - acc: 0.9705 - val_loss: 0.1082 - val_acc: 0.9724\n",
      "\n",
      "Epoch 00005: val_acc did not improve from 0.97250\n",
      "Epoch 6/30\n",
      "203/203 [==============================] - 108s 531ms/step - loss: 0.0917 - acc: 0.9704 - val_loss: 0.1075 - val_acc: 0.9723\n",
      "\n",
      "Epoch 00006: val_acc did not improve from 0.97250\n",
      "Epoch 7/30\n",
      "203/203 [==============================] - 108s 533ms/step - loss: 0.0913 - acc: 0.9705 - val_loss: 0.1072 - val_acc: 0.9722\n",
      "\n",
      "Epoch 00007: val_acc did not improve from 0.97250\n",
      "Epoch 8/30\n",
      "203/203 [==============================] - 108s 533ms/step - loss: 0.0915 - acc: 0.9704 - val_loss: 0.1066 - val_acc: 0.9722\n",
      "\n",
      "Epoch 00008: val_acc did not improve from 0.97250\n",
      "Epoch 9/30\n",
      "203/203 [==============================] - 108s 532ms/step - loss: 0.0914 - acc: 0.9705 - val_loss: 0.1063 - val_acc: 0.9722\n",
      "\n",
      "Epoch 00009: val_acc did not improve from 0.97250\n",
      "Epoch 10/30\n",
      "203/203 [==============================] - 108s 531ms/step - loss: 0.0905 - acc: 0.9706 - val_loss: 0.1058 - val_acc: 0.9722\n",
      "\n",
      "Epoch 00010: val_acc did not improve from 0.97250\n",
      "Epoch 11/30\n",
      "203/203 [==============================] - 107s 529ms/step - loss: 0.0910 - acc: 0.9705 - val_loss: 0.1055 - val_acc: 0.9722\n",
      "\n",
      "Epoch 00011: val_acc did not improve from 0.97250\n",
      "Epoch 12/30\n",
      "203/203 [==============================] - 107s 526ms/step - loss: 0.0905 - acc: 0.9707 - val_loss: 0.1049 - val_acc: 0.9722\n",
      "\n",
      "Epoch 00012: val_acc did not improve from 0.97250\n",
      "Epoch 13/30\n",
      "203/203 [==============================] - 108s 533ms/step - loss: 0.0907 - acc: 0.9706 - val_loss: 0.1046 - val_acc: 0.9721\n",
      "\n",
      "Epoch 00013: val_acc did not improve from 0.97250\n",
      "Epoch 14/30\n",
      "203/203 [==============================] - 108s 530ms/step - loss: 0.0906 - acc: 0.9705 - val_loss: 0.1041 - val_acc: 0.9722\n",
      "\n",
      "Epoch 00014: val_acc did not improve from 0.97250\n",
      "Epoch 15/30\n",
      "203/203 [==============================] - 107s 526ms/step - loss: 0.0908 - acc: 0.9706 - val_loss: 0.1038 - val_acc: 0.9722\n",
      "\n",
      "Epoch 00015: val_acc did not improve from 0.97250\n",
      "Epoch 16/30\n",
      "203/203 [==============================] - 107s 528ms/step - loss: 0.0902 - acc: 0.9707 - val_loss: 0.1037 - val_acc: 0.9721\n",
      "\n",
      "Epoch 00016: val_acc did not improve from 0.97250\n",
      "Epoch 17/30\n",
      "203/203 [==============================] - 107s 526ms/step - loss: 0.0900 - acc: 0.9707 - val_loss: 0.1032 - val_acc: 0.9721\n",
      "\n",
      "Epoch 00017: val_acc did not improve from 0.97250\n",
      "Epoch 18/30\n",
      "203/203 [==============================] - 107s 526ms/step - loss: 0.0903 - acc: 0.9707 - val_loss: 0.1030 - val_acc: 0.9720\n",
      "\n",
      "Epoch 00018: val_acc did not improve from 0.97250\n",
      "Epoch 19/30\n",
      "203/203 [==============================] - 108s 532ms/step - loss: 0.0900 - acc: 0.9707 - val_loss: 0.1029 - val_acc: 0.9721\n",
      "\n",
      "Epoch 00019: val_acc did not improve from 0.97250\n",
      "Epoch 20/30\n",
      "203/203 [==============================] - 107s 528ms/step - loss: 0.0899 - acc: 0.9707 - val_loss: 0.1024 - val_acc: 0.9721\n",
      "\n",
      "Epoch 00020: val_acc did not improve from 0.97250\n",
      "Epoch 21/30\n",
      "203/203 [==============================] - 107s 528ms/step - loss: 0.0907 - acc: 0.9705 - val_loss: 0.1023 - val_acc: 0.9721\n",
      "\n",
      "Epoch 00021: val_acc did not improve from 0.97250\n",
      "Epoch 22/30\n",
      "203/203 [==============================] - 107s 529ms/step - loss: 0.0897 - acc: 0.9708 - val_loss: 0.1019 - val_acc: 0.9721\n",
      "\n",
      "Epoch 00022: val_acc did not improve from 0.97250\n",
      "Epoch 23/30\n",
      "203/203 [==============================] - 108s 533ms/step - loss: 0.0902 - acc: 0.9707 - val_loss: 0.1019 - val_acc: 0.9720\n",
      "\n",
      "Epoch 00023: val_acc did not improve from 0.97250\n",
      "Epoch 24/30\n",
      "203/203 [==============================] - 107s 527ms/step - loss: 0.0898 - acc: 0.9709 - val_loss: 0.1014 - val_acc: 0.9721\n",
      "\n",
      "Epoch 00024: val_acc did not improve from 0.97250\n",
      "Epoch 25/30\n",
      "203/203 [==============================] - 106s 523ms/step - loss: 0.0896 - acc: 0.9706 - val_loss: 0.1015 - val_acc: 0.9720\n",
      "\n",
      "Epoch 00025: val_acc did not improve from 0.97250\n",
      "Epoch 26/30\n",
      "203/203 [==============================] - 107s 525ms/step - loss: 0.0894 - acc: 0.9709 - val_loss: 0.1011 - val_acc: 0.9720\n",
      "\n",
      "Epoch 00026: val_acc did not improve from 0.97250\n",
      "Epoch 27/30\n",
      "203/203 [==============================] - 106s 524ms/step - loss: 0.0898 - acc: 0.9707 - val_loss: 0.1011 - val_acc: 0.9720\n",
      "\n",
      "Epoch 00027: val_acc did not improve from 0.97250\n",
      "Epoch 28/30\n",
      "203/203 [==============================] - 107s 526ms/step - loss: 0.0898 - acc: 0.9707 - val_loss: 0.1008 - val_acc: 0.9720\n",
      "\n",
      "Epoch 00028: val_acc did not improve from 0.97250\n",
      "Epoch 29/30\n",
      "203/203 [==============================] - 108s 530ms/step - loss: 0.0899 - acc: 0.9707 - val_loss: 0.1008 - val_acc: 0.9720\n",
      "\n",
      "Epoch 00029: val_acc did not improve from 0.97250\n",
      "Epoch 30/30\n",
      "203/203 [==============================] - 108s 530ms/step - loss: 0.0894 - acc: 0.9709 - val_loss: 0.1005 - val_acc: 0.9720\n",
      "\n",
      "Epoch 00030: val_acc did not improve from 0.97250\n"
     ]
    }
   ],
   "source": [
    "# loading best model of last training part\n",
    "model.load_weights('drive/My Drive/Colab Notebooks/cp.top.best.hdf5')\n",
    "\n",
    "# unfreeze last 2 inception blocks\n",
    "for layer in model.layers[:249]:\n",
    "   layer.trainable = False\n",
    "for layer in model.layers[249:]:\n",
    "   layer.trainable = True\n",
    "\n",
    "# hyperparameters\n",
    "learning_rate = 0.0001\n",
    "batch_size = 64\n",
    "epochs = 30\n",
    "\n",
    "# optimizer\n",
    "opt = optimizers.SGD(lr=learning_rate, momentum=0.9)\n",
    "\n",
    "# compile\n",
    "model.compile(optimizer=opt, loss='binary_crossentropy', metrics=['accuracy'])\n",
    "\n",
    "# callback\n",
    "file_path = 'drive/My Drive/Colab Notebooks/cp.fine_tuned.best.hdf5'\n",
    "mcp2 = ModelCheckpoint(file_path, monitor='val_acc', verbose=1,\n",
    "                      save_best_only=True, save_weights_only=False, mode='auto',\n",
    "                      period=1)\n",
    "\n",
    "history = model.fit_generator(aug_data.flow(images_array[:13000], targets_oh[:13000], batch_size=batch_size),\n",
    "                    steps_per_epoch=images_array[:13000].shape[0] // batch_size,\n",
    "                    epochs=epochs, verbose=1, callbacks=[mcp2],\n",
    "                     validation_data=(images_array[13000:], targets_oh[13000:]))"
   ]
  },
  {
   "cell_type": "markdown",
   "metadata": {
    "colab_type": "text",
    "id": "v4xobZ4xehFB"
   },
   "source": [
    "### Extracting Features"
   ]
  },
  {
   "cell_type": "code",
   "execution_count": null,
   "metadata": {
    "colab": {},
    "colab_type": "code",
    "id": "o0s3CejdelLY"
   },
   "outputs": [],
   "source": [
    "# extracting features\n",
    "layer_name = 'dense_1'\n",
    "feature_layer_model = Model(inputs=model.input, outputs=model.get_layer(layer_name).output)\n",
    "features_array = feature_layer_model.predict(images_array)"
   ]
  },
  {
   "cell_type": "markdown",
   "metadata": {
    "colab_type": "text",
    "id": "vT5nTiW_m4z-"
   },
   "source": [
    "### Saving Features"
   ]
  },
  {
   "cell_type": "code",
   "execution_count": null,
   "metadata": {
    "colab": {},
    "colab_type": "code",
    "id": "ACGP7X9snDTg"
   },
   "outputs": [],
   "source": [
    "np.save('drive/My Drive/Colab Notebooks/features_array.npy', features_array)"
   ]
  },
  {
   "cell_type": "code",
   "execution_count": null,
   "metadata": {
    "colab": {},
    "colab_type": "code",
    "id": "iFC7Sqntr-cM"
   },
   "outputs": [],
   "source": [
    "features_array = np.load('drive/My Drive/Colab Notebooks/features_array.npy')"
   ]
  },
  {
   "cell_type": "code",
   "execution_count": null,
   "metadata": {
    "colab": {
     "base_uri": "https://localhost:8080/",
     "height": 34
    },
    "colab_type": "code",
    "id": "NVzoohzs_BTb",
    "outputId": "c6f18557-660c-40ca-cd35-2f70494c79a5"
   },
   "outputs": [
    {
     "data": {
      "text/plain": [
       "(14867, 2048)"
      ]
     },
     "execution_count": 11,
     "metadata": {
      "tags": []
     },
     "output_type": "execute_result"
    }
   ],
   "source": [
    "features_array.shape"
   ]
  },
  {
   "cell_type": "markdown",
   "metadata": {
    "colab_type": "text",
    "id": "viTbLsaXzklx"
   },
   "source": [
    "### Generating Train and Test Dictionary of Caption"
   ]
  },
  {
   "cell_type": "code",
   "execution_count": null,
   "metadata": {
    "colab": {},
    "colab_type": "code",
    "id": "i3Ns9WNDreoo"
   },
   "outputs": [],
   "source": [
    "train_captions = dict()\n",
    "test_captions = dict()\n",
    "sorted_captions = dict()\n",
    "for j, name in enumerate(images_name):\n",
    "  id = get_id(name, images_info_dic)\n",
    "  cap_list = []\n",
    "  for i, index in enumerate(captions_dic):\n",
    "    if index['image_id'] == id:\n",
    "      cap_list.append(captions_dic[i]['caption'])\n",
    "\n",
    "  sorted_captions[id] = cap_list    \n",
    "  if j < 7000:\n",
    "    train_captions[id] = cap_list\n",
    "  if j > 14000:\n",
    "    test_captions[id] = cap_list"
   ]
  },
  {
   "cell_type": "code",
   "execution_count": null,
   "metadata": {
    "colab": {},
    "colab_type": "code",
    "id": "XwwNKkk4Jdda"
   },
   "outputs": [],
   "source": [
    "with open('drive/My Drive/Colab Notebooks/train_captions.json', 'w') as f:\n",
    "    json.dump(train_captions, f)"
   ]
  },
  {
   "cell_type": "markdown",
   "metadata": {
    "colab_type": "text",
    "id": "XZI37jo69BBq"
   },
   "source": [
    "### Cleaning Captions"
   ]
  },
  {
   "cell_type": "code",
   "execution_count": null,
   "metadata": {
    "colab": {},
    "colab_type": "code",
    "id": "5nLFg4mD7ihs"
   },
   "outputs": [],
   "source": [
    "# translation table for removing punctuation\n",
    "table = str.maketrans('', '', string.punctuation)\n",
    "\n",
    "for key, cap_list in sorted_captions.items():\n",
    "  for i in range(len(cap_list)):\n",
    "    cap = cap_list[i]\n",
    "    \n",
    "    # split words\n",
    "    cap = cap.split()\n",
    "\n",
    "    # convert to lower case\n",
    "    cap = [word.lower() for word in cap]\n",
    "\n",
    "    # removing punctuations like '.' , ':', '&', '%', ...\n",
    "    cap = [word.translate(table) for word in cap]\n",
    "\n",
    "    # removing one letter characters like 'a'\n",
    "    cap = [word for word in cap if len(word)>1]\n",
    "\n",
    "    # removing words with numbers\n",
    "    cap = [word for word in cap if word.isalpha()]\n",
    "\n",
    "    # joining the words\n",
    "    cap_list[i] =  ' '.join(cap) "
   ]
  },
  {
   "cell_type": "markdown",
   "metadata": {
    "colab_type": "text",
    "id": "cXrbtNOyHN5f"
   },
   "source": [
    "### All Captions"
   ]
  },
  {
   "cell_type": "code",
   "execution_count": null,
   "metadata": {
    "colab": {},
    "colab_type": "code",
    "id": "nfUdkjAMHNMC"
   },
   "outputs": [],
   "source": [
    "all_train_captions = []\n",
    "for key, value in train_captions.items():\n",
    "  for cap in value:\n",
    "    all_train_captions.append(cap)\n",
    "  \n",
    "all_test_captions = []\n",
    "for key, value in test_captions.items():\n",
    "  for cap in value:\n",
    "    all_test_captions.append(cap)\n",
    "\n",
    "all_captions = []\n",
    "for key, value in sorted_captions.items():\n",
    "  for cap in value:\n",
    "    all_captions.append(cap)"
   ]
  },
  {
   "cell_type": "markdown",
   "metadata": {
    "colab_type": "text",
    "id": "7tkgFkcRHUdP"
   },
   "source": [
    "### Maximum Length of Samples"
   ]
  },
  {
   "cell_type": "code",
   "execution_count": null,
   "metadata": {
    "colab": {},
    "colab_type": "code",
    "id": "iTNe3PVkHT6G"
   },
   "outputs": [],
   "source": [
    "temp = [index.split(' ') for index in all_train_captions]\n",
    "lengths = [len(index) for index in temp]\n",
    "max_length = max(lengths)\n",
    "del(temp)"
   ]
  },
  {
   "cell_type": "markdown",
   "metadata": {
    "colab_type": "text",
    "id": "uvHLohIAHf1y"
   },
   "source": [
    "### Adding PAD, START and END"
   ]
  },
  {
   "cell_type": "code",
   "execution_count": null,
   "metadata": {
    "colab": {},
    "colab_type": "code",
    "id": "kxgQz0t7HfHV"
   },
   "outputs": [],
   "source": [
    "for key, cap_list in sorted_captions.items():\n",
    "  for i in range(len(cap_list)):\n",
    "    cap = cap_list[i]\n",
    "    \n",
    "    # split words\n",
    "    cap = cap.split()\n",
    "    cap_length = len(cap)\n",
    "\n",
    "    cap_list[i] =  '<startseq> ' + ' '.join(cap) + ' <PAD>' * (max_length - cap_length) + ' <endseq>'"
   ]
  },
  {
   "cell_type": "markdown",
   "metadata": {
    "colab_type": "text",
    "id": "4y3zu9MQJQj9"
   },
   "source": [
    "### New Maximum Length"
   ]
  },
  {
   "cell_type": "code",
   "execution_count": null,
   "metadata": {
    "colab": {},
    "colab_type": "code",
    "id": "mqVsxOgeJTeq"
   },
   "outputs": [],
   "source": [
    "all_train_captions = []\n",
    "for key, value in train_captions.items():\n",
    "  for cap in value:\n",
    "    all_train_captions.append(cap)\n",
    "\n",
    "temp = [index.split(' ') for index in all_train_captions]\n",
    "lengths = [len(index) for index in temp]\n",
    "max_length = max(lengths)\n",
    "del(temp)"
   ]
  },
  {
   "cell_type": "markdown",
   "metadata": {
    "colab_type": "text",
    "id": "Dtqma6eLDfuF"
   },
   "source": [
    "### Vocabulary"
   ]
  },
  {
   "cell_type": "code",
   "execution_count": null,
   "metadata": {
    "colab": {},
    "colab_type": "code",
    "id": "z1BOpyWDEpLc"
   },
   "outputs": [],
   "source": [
    "threshold = 5\n",
    "word_counts = {}\n",
    "\n",
    "for cap in all_train_captions:\n",
    "  for word in cap.split(' '):\n",
    "    word_counts[word] = word_counts.get(word, 0) + 1\n",
    "\n",
    "vocab = [word for word in word_counts if word_counts[word] >= threshold]\n",
    "# vocab.append('<PAD>')\n",
    "# vocab.append('<startseq>')\n",
    "# vocab.append('<endseq>')\n",
    "\n",
    "# set numbers to words\n",
    "vocab_to_int = { ch:i for i,ch in enumerate(vocab) }\n",
    "int_to_vocab = { i:ch for i,ch in enumerate(vocab) }"
   ]
  },
  {
   "cell_type": "markdown",
   "metadata": {
    "colab_type": "text",
    "id": "I5jFMGk7Cqyi"
   },
   "source": [
    "### ID and Features Dictionary"
   ]
  },
  {
   "cell_type": "code",
   "execution_count": null,
   "metadata": {
    "colab": {},
    "colab_type": "code",
    "id": "goIqYVFFCqOB"
   },
   "outputs": [],
   "source": [
    "featureID_dic = {}\n",
    "for i, name in enumerate(images_name):\n",
    "  id = get_id(name, images_info_dic)\n",
    "  featureID_dic[id] = features_array[i]"
   ]
  },
  {
   "cell_type": "markdown",
   "metadata": {
    "colab_type": "text",
    "id": "o34IROydon6v"
   },
   "source": [
    "### Word2Vec"
   ]
  },
  {
   "cell_type": "code",
   "execution_count": null,
   "metadata": {
    "colab": {},
    "colab_type": "code",
    "id": "zD8z0UgIM6fr"
   },
   "outputs": [],
   "source": [
    "embedding_dim = 200\n",
    "corpus = [index.split(' ') for index in all_train_captions]\n",
    "\n",
    "# CBOW word2vec\n",
    "word_model = Word2Vec(corpus, min_count=threshold, size=embedding_dim)"
   ]
  },
  {
   "cell_type": "markdown",
   "metadata": {
    "colab_type": "text",
    "id": "uQPM15_uBTaA"
   },
   "source": [
    "### Data Generator"
   ]
  },
  {
   "cell_type": "code",
   "execution_count": null,
   "metadata": {
    "colab": {},
    "colab_type": "code",
    "id": "VCJ_T-4KBWcS"
   },
   "outputs": [],
   "source": [
    "def data_generator(captions, featureID, wordtoint, max_length,\n",
    "                   num_photos_per_batch, vocab_size):\n",
    "    X1, X2, y = list(), list(), list()\n",
    "    num_samples = 0\n",
    "    while 1:\n",
    "        for key, cap_list in captions.items():\n",
    "            num_samples += 1\n",
    "            feature = featureID[key]\n",
    "\n",
    "            for cap in cap_list:\n",
    "    \n",
    "                int_seq = [wordtoint[word] for word in cap.split(' ') if word in wordtoint]\n",
    "                word_seq = [word for word in cap.split(' ') if word in wordtoint]\n",
    "\n",
    "                length = len(word_seq)\n",
    "                if length != max_length:\n",
    "                  word_seq = word_seq[:-1]\n",
    "                  int_seq = int_seq[:-1]\n",
    "                  for k in range(max_length - length):\n",
    "                    int_seq.append(wordtoint['<PAD>'])\n",
    "                    word_seq.append('<PAD>')\n",
    "                  word_seq.append('<endseq>')  \n",
    "                  int_seq.append(wordtoint['<PAD>'])\n",
    "                \n",
    "\n",
    "                pre_in_seq, out_seq = word_seq, int_seq\n",
    "\n",
    "                in_seq = []\n",
    "                \n",
    "                for w in pre_in_seq:\n",
    "                  in_seq.append(word_model[w])\n",
    "                \n",
    "\n",
    "                out_seq = in_seq[1:]\n",
    "                in_seq = in_seq[:-1]\n",
    "\n",
    "                X1.append(feature)\n",
    "                X2.append(in_seq)\n",
    "                y.append(out_seq)\n",
    "            \n",
    "            if num_samples == num_photos_per_batch:\n",
    "                yield [[np.array(X1), np.array(X2)], np.array(y)]\n",
    "                X1, X2, y = list(), list(), list()\n",
    "                num_samples = 0"
   ]
  },
  {
   "cell_type": "markdown",
   "metadata": {
    "colab_type": "text",
    "id": "3fJ2lkcBVfrI"
   },
   "source": [
    "### Attention"
   ]
  },
  {
   "cell_type": "code",
   "execution_count": null,
   "metadata": {
    "colab": {},
    "colab_type": "code",
    "id": "cq-nNgGAVe-8"
   },
   "outputs": [],
   "source": [
    "class Attention(Layer):\n",
    "    def __init__(self, step_dim,\n",
    "                 W_regularizer=None, b_regularizer=None,\n",
    "                 W_constraint=None, b_constraint=None,\n",
    "                 bias=True, **kwargs):\n",
    "        self.supports_masking = True\n",
    "        self.init = initializers.get('glorot_uniform')\n",
    "\n",
    "        self.W_regularizer = regularizers.get(W_regularizer)\n",
    "        self.b_regularizer = regularizers.get(b_regularizer)\n",
    "\n",
    "        self.W_constraint = constraints.get(W_constraint)\n",
    "        self.b_constraint = constraints.get(b_constraint)\n",
    "\n",
    "        self.bias = bias\n",
    "        self.step_dim = step_dim\n",
    "        self.features_dim = 0\n",
    "        super(Attention, self).__init__(**kwargs)\n",
    "    \n",
    "    def get_config(self):\n",
    "        config = super(Attention, self).get_config()\n",
    "        config.update({'step_dim': self.step_dim,\n",
    "                       'W_regularizer': self.W_regularizer,\n",
    "                       'b_regularizer': self.b_regularizer,\n",
    "                       'W_constraint': self.W_constraint,\n",
    "                       'b_constraint': self.b_constraint,\n",
    "                       'bias': self.bias})\n",
    "        return config\n",
    "\n",
    "    def build(self, input_shape):\n",
    "        assert len(input_shape) == 3\n",
    "\n",
    "        self.W = self.add_weight((input_shape[-1],),\n",
    "                                 initializer=self.init,\n",
    "                                 name='{}_W'.format(self.name),\n",
    "                                 regularizer=self.W_regularizer,\n",
    "                                 constraint=self.W_constraint)\n",
    "        self.features_dim = input_shape[-1]\n",
    "\n",
    "        if self.bias:\n",
    "            self.b = self.add_weight((input_shape[1],),\n",
    "                                     initializer='zero',\n",
    "                                     name='{}_b'.format(self.name),\n",
    "                                     regularizer=self.b_regularizer,\n",
    "                                     constraint=self.b_constraint)\n",
    "        else:\n",
    "            self.b = None\n",
    "\n",
    "        self.built = True\n",
    "\n",
    "    def compute_mask(self, input, input_mask=None):\n",
    "        return None\n",
    "\n",
    "    def call(self, x, mask=None):\n",
    "        features_dim = self.features_dim\n",
    "        step_dim = self.step_dim\n",
    "\n",
    "        eij = K.reshape(K.dot(K.reshape(x, (-1, features_dim)),\n",
    "                        K.reshape(self.W, (features_dim, 1))), (-1, step_dim))\n",
    "\n",
    "        if self.bias:\n",
    "            eij += self.b\n",
    "\n",
    "        eij = K.tanh(eij)\n",
    "\n",
    "        a = K.exp(eij)\n",
    "\n",
    "        if mask is not None:\n",
    "            a *= K.cast(mask, K.floatx())\n",
    "\n",
    "        a /= K.cast(K.sum(a, axis=1, keepdims=True) + K.epsilon(), K.floatx())\n",
    "\n",
    "        a = K.expand_dims(a)\n",
    "        weighted_input = x * a\n",
    "        return K.sum(weighted_input, axis=1)\n",
    "\n",
    "    def compute_output_shape(self, input_shape):\n",
    "        return input_shape[0],  self.features_dim"
   ]
  },
  {
   "cell_type": "markdown",
   "metadata": {
    "colab_type": "text",
    "id": "vBtzSnisKcGC"
   },
   "source": [
    "### RNN Model"
   ]
  },
  {
   "cell_type": "code",
   "execution_count": null,
   "metadata": {
    "colab": {
     "base_uri": "https://localhost:8080/",
     "height": 544
    },
    "colab_type": "code",
    "id": "LLpjzck-KbPn",
    "outputId": "4f0799f4-d080-4b85-92ce-f9d45890920f"
   },
   "outputs": [
    {
     "name": "stdout",
     "output_type": "stream",
     "text": [
      "Model: \"model_3\"\n",
      "__________________________________________________________________________________________________\n",
      "Layer (type)                    Output Shape         Param #     Connected to                     \n",
      "==================================================================================================\n",
      "input_5 (InputLayer)            (None, 2048)         0                                            \n",
      "__________________________________________________________________________________________________\n",
      "dropout_5 (Dropout)             (None, 2048)         0           input_5[0][0]                    \n",
      "__________________________________________________________________________________________________\n",
      "input_6 (InputLayer)            (None, 46, 200)      0                                            \n",
      "__________________________________________________________________________________________________\n",
      "batch_normalization_5 (BatchNor (None, 2048)         8192        dropout_5[0][0]                  \n",
      "__________________________________________________________________________________________________\n",
      "dropout_6 (Dropout)             (None, 46, 200)      0           input_6[0][0]                    \n",
      "__________________________________________________________________________________________________\n",
      "dense_7 (Dense)                 (None, 256)          524544      batch_normalization_5[0][0]      \n",
      "__________________________________________________________________________________________________\n",
      "bidirectional_3 (Bidirectional) (None, 46, 256)      337920      dropout_6[0][0]                  \n",
      "__________________________________________________________________________________________________\n",
      "add_3 (Add)                     (None, 46, 256)      0           dense_7[0][0]                    \n",
      "                                                                 bidirectional_3[0][0]            \n",
      "__________________________________________________________________________________________________\n",
      "dense_8 (Dense)                 (None, 46, 256)      65792       add_3[0][0]                      \n",
      "__________________________________________________________________________________________________\n",
      "batch_normalization_6 (BatchNor (None, 46, 256)      1024        dense_8[0][0]                    \n",
      "__________________________________________________________________________________________________\n",
      "dense_9 (Dense)                 (None, 46, 200)      51400       batch_normalization_6[0][0]      \n",
      "==================================================================================================\n",
      "Total params: 988,872\n",
      "Trainable params: 984,264\n",
      "Non-trainable params: 4,608\n",
      "__________________________________________________________________________________________________\n"
     ]
    }
   ],
   "source": [
    "# feature input layer\n",
    "feature_input = Input(shape=(2048,))\n",
    "feature_after_drop = Dropout(0.5)(feature_input)\n",
    "batch_out = BatchNormalization()(feature_after_drop)\n",
    "dense_out = Dense(256, activation='relu')(batch_out)\n",
    "\n",
    "# sequence input layer\n",
    "sequence_input = Input(shape=(max_length-1, embedding_dim))\n",
    "sequence_after_drop = Dropout(0.5)(sequence_input)\n",
    "lstm_out = Bidirectional(CuDNNLSTM(128, return_sequences=True))(sequence_after_drop)\n",
    "# lstm_out = Attention(max_length)(lstm_out)\n",
    "\n",
    "# feed forward model\n",
    "decoder1 = add([dense_out, lstm_out])\n",
    "decoder2 = Dense(256, activation='relu')(decoder1)\n",
    "decoder3 = BatchNormalization()(decoder2)\n",
    "output = Dense(embedding_dim, activation='linear')(decoder3)\n",
    "\n",
    "\n",
    "RNN_model = Model(inputs=[feature_input, sequence_input], outputs=output)\n",
    "\n",
    "RNN_model.summary()"
   ]
  },
  {
   "cell_type": "markdown",
   "metadata": {
    "colab_type": "text",
    "id": "MU6iv27eSO2D"
   },
   "source": [
    "### Plotting Model"
   ]
  },
  {
   "cell_type": "code",
   "execution_count": null,
   "metadata": {
    "colab": {
     "base_uri": "https://localhost:8080/",
     "height": 865
    },
    "colab_type": "code",
    "id": "0lhZRsQHSRJ6",
    "outputId": "a616b80b-bfb7-4621-90bf-5996e4580698"
   },
   "outputs": [
    {
     "data": {
      "image/png": "[encoded data removed]",
      "text/plain": [
       "<IPython.core.display.Image object>"
      ]
     },
     "execution_count": 41,
     "metadata": {
      "tags": []
     },
     "output_type": "execute_result"
    }
   ],
   "source": [
    "plot_model(RNN_model, to_file='model.png', show_shapes=True, show_layer_names=True)"
   ]
  },
  {
   "cell_type": "code",
   "execution_count": null,
   "metadata": {
    "colab": {},
    "colab_type": "code",
    "id": "nR9c26FATmKI"
   },
   "outputs": [],
   "source": [
    "i = 0\n",
    "small_set = dict()\n",
    "for key, value in train_captions.items():\n",
    "  if i < 7000:\n",
    "    small_set[key] = value\n",
    "  i += 1"
   ]
  },
  {
   "cell_type": "code",
   "execution_count": null,
   "metadata": {
    "colab": {},
    "colab_type": "code",
    "id": "VxybWSCTUUkT"
   },
   "outputs": [],
   "source": [
    "all_small_captions = []\n",
    "for key, value in small_set.items():\n",
    "  for cap in value:\n",
    "    all_small_captions.append(cap)"
   ]
  },
  {
   "cell_type": "markdown",
   "metadata": {
    "colab_type": "text",
    "id": "pFifXN4XSnW1"
   },
   "source": [
    "### Training RNN"
   ]
  },
  {
   "cell_type": "code",
   "execution_count": null,
   "metadata": {
    "colab": {
     "base_uri": "https://localhost:8080/",
     "height": 714
    },
    "colab_type": "code",
    "id": "OOU1kR03SpcK",
    "outputId": "cc8ea36f-3722-43a8-c4ba-8cc65794c28e"
   },
   "outputs": [
    {
     "name": "stdout",
     "output_type": "stream",
     "text": [
      "Epoch 1/20\n"
     ]
    },
    {
     "name": "stderr",
     "output_type": "stream",
     "text": [
      "/usr/local/lib/python3.6/dist-packages/ipykernel_launcher.py:31: DeprecationWarning: Call to deprecated `__getitem__` (Method will be removed in 4.0.0, use self.wv.__getitem__() instead).\n"
     ]
    },
    {
     "name": "stdout",
     "output_type": "stream",
     "text": [
      "2188/2188 [==============================] - 101s 46ms/step - loss: 0.0402 - acc: 0.8629 - val_loss: 0.0926 - val_acc: 0.8944\n",
      "Epoch 2/20\n",
      "2188/2188 [==============================] - 98s 45ms/step - loss: 0.0123 - acc: 0.9074 - val_loss: 0.0698 - val_acc: 0.9242\n",
      "Epoch 3/20\n",
      "2188/2188 [==============================] - 96s 44ms/step - loss: 0.0082 - acc: 0.9194 - val_loss: 0.0576 - val_acc: 0.9207\n",
      "Epoch 4/20\n",
      "2188/2188 [==============================] - 96s 44ms/step - loss: 0.0062 - acc: 0.9250 - val_loss: 0.0465 - val_acc: 0.9395\n",
      "Epoch 5/20\n",
      "2188/2188 [==============================] - 96s 44ms/step - loss: 0.0051 - acc: 0.9297 - val_loss: 0.0528 - val_acc: 0.9336\n",
      "Epoch 6/20\n",
      "2188/2188 [==============================] - 96s 44ms/step - loss: 0.0044 - acc: 0.9337 - val_loss: 0.0561 - val_acc: 0.9502\n",
      "Epoch 7/20\n",
      "2188/2188 [==============================] - 95s 43ms/step - loss: 0.0038 - acc: 0.9367 - val_loss: 0.0643 - val_acc: 0.9442\n",
      "Epoch 8/20\n",
      "2188/2188 [==============================] - 96s 44ms/step - loss: 0.0035 - acc: 0.9388 - val_loss: 0.0552 - val_acc: 0.9407\n",
      "Epoch 9/20\n",
      "2188/2188 [==============================] - 95s 43ms/step - loss: 0.0033 - acc: 0.9405 - val_loss: 0.0628 - val_acc: 0.9473\n",
      "Epoch 10/20\n",
      "2188/2188 [==============================] - 95s 43ms/step - loss: 0.0031 - acc: 0.9418 - val_loss: 0.0532 - val_acc: 0.9562\n",
      "Epoch 11/20\n",
      "2188/2188 [==============================] - 95s 43ms/step - loss: 0.0029 - acc: 0.9426 - val_loss: 0.0547 - val_acc: 0.9544\n",
      "Epoch 12/20\n",
      "2188/2188 [==============================] - 94s 43ms/step - loss: 0.0028 - acc: 0.9434 - val_loss: 0.0526 - val_acc: 0.9463\n",
      "Epoch 13/20\n",
      "2188/2188 [==============================] - 95s 44ms/step - loss: 0.0027 - acc: 0.9442 - val_loss: 0.0610 - val_acc: 0.9573\n",
      "Epoch 14/20\n",
      "2188/2188 [==============================] - 95s 44ms/step - loss: 0.0026 - acc: 0.9447 - val_loss: 0.0593 - val_acc: 0.9586\n",
      "Epoch 15/20\n",
      "2188/2188 [==============================] - 96s 44ms/step - loss: 0.0025 - acc: 0.9451 - val_loss: 0.0471 - val_acc: 0.9546\n",
      "Epoch 16/20\n",
      "2188/2188 [==============================] - 95s 44ms/step - loss: 0.0024 - acc: 0.9456 - val_loss: 0.0656 - val_acc: 0.9559\n",
      "Epoch 17/20\n",
      "2188/2188 [==============================] - 94s 43ms/step - loss: 0.0023 - acc: 0.9460 - val_loss: 0.0603 - val_acc: 0.9555\n",
      "Epoch 18/20\n",
      "2188/2188 [==============================] - 95s 43ms/step - loss: 0.0023 - acc: 0.9464 - val_loss: 0.0569 - val_acc: 0.9569\n",
      "Epoch 19/20\n",
      "2188/2188 [==============================] - 95s 43ms/step - loss: 0.0022 - acc: 0.9467 - val_loss: 0.0666 - val_acc: 0.9587\n",
      "Epoch 20/20\n",
      "2188/2188 [==============================] - 95s 43ms/step - loss: 0.0022 - acc: 0.9470 - val_loss: 0.0572 - val_acc: 0.9543\n"
     ]
    }
   ],
   "source": [
    "# optimizer\n",
    "opt = optimizers.rmsprop(lr=0.001)\n",
    "\n",
    "# compile\n",
    "RNN_model.compile(optimizer=opt, loss='mean_squared_error', metrics=['accuracy'])\n",
    "\n",
    "# hyperparameters\n",
    "batch_size = 32\n",
    "epochs = 20\n",
    "train_steps = len(all_train_captions)//batch_size\n",
    "test_steps = len(all_test_captions)//batch_size\n",
    "\n",
    "# generator\n",
    "train_generator = data_generator(train_captions, featureID_dic, vocab_to_int,\n",
    "                           max_length, batch_size, len(vocab_to_int))\n",
    "test_generator = data_generator(test_captions, featureID_dic, vocab_to_int,\n",
    "                           max_length, batch_size, len(vocab_to_int))\n",
    "\n",
    "# training\n",
    "history = RNN_model.fit_generator(train_generator, epochs=epochs,\n",
    "                                  steps_per_epoch=train_steps, verbose=1,\n",
    "                                  validation_data=test_generator,\n",
    "                                  validation_steps=test_steps)"
   ]
  },
  {
   "cell_type": "code",
   "execution_count": null,
   "metadata": {
    "colab": {},
    "colab_type": "code",
    "id": "KlJ0-UGEFyOn"
   },
   "outputs": [],
   "source": [
    "RNN_model.save('drive/My Drive/Colab Notebooks/RNN_model2_20_0.001_mm.h5')"
   ]
  },
  {
   "cell_type": "code",
   "execution_count": null,
   "metadata": {
    "colab": {},
    "colab_type": "code",
    "id": "Ci8Y0MKpNr4J"
   },
   "outputs": [],
   "source": [
    "RNN_model = load_model('drive/My Drive/Colab Notebooks/RNN_model2_20_0.001_mm.h5')"
   ]
  },
  {
   "cell_type": "markdown",
   "metadata": {
    "colab_type": "text",
    "id": "l4ls9-gQH9EM"
   },
   "source": [
    "### Inference(Generating Captions)"
   ]
  },
  {
   "cell_type": "code",
   "execution_count": null,
   "metadata": {
    "colab": {},
    "colab_type": "code",
    "id": "yN-OsMdxICRR"
   },
   "outputs": [],
   "source": [
    "def Inference(feature, max_length, wordtoint, inttoword):\n",
    "    in_text = '<startseq>'\n",
    "    for i in range(max_length-1):\n",
    "        sequence = [word_model[word] for word in in_text.split() if word in wordtoint]\n",
    "\n",
    "        length = len(sequence)\n",
    "        for k in range(max_length - length - 1):\n",
    "          sequence.append(word_model['<PAD>'])\n",
    "        \n",
    "        in_seq = np.expand_dims(np.array(sequence), axis=0)\n",
    "        output = RNN_model.predict([feature, in_seq], verbose=0)[0, i, :]\n",
    "        output = word_model.most_similar(positive=[output],topn=1)[0][0]\n",
    "        in_text += ' ' + output\n",
    "        if word == '<endseq>':\n",
    "            break\n",
    "    final = in_text.split()\n",
    "    # final = final[1:-1]\n",
    "    final = ' '.join(final)\n",
    "    return final\n",
    "\n",
    "print(Inference(np.expand_dims(features_array[0], axis=0), max_length, vocab_to_int, int_to_vocab))\n",
    "plt.imshow(images_array[0]/255.)\n",
    "plt.show()"
   ]
  }
 ],
 "metadata": {
  "accelerator": "GPU",
  "colab": {
   "collapsed_sections": [],
   "machine_shape": "hm",
   "name": "ImageCaptioning2.ipynb",
   "provenance": []
  },
  "kernelspec": {
   "display_name": "Python 3",
   "language": "python",
   "name": "python3"
  },
  "language_info": {
   "codemirror_mode": {
    "name": "ipython",
    "version": 3
   },
   "file_extension": ".py",
   "mimetype": "text/x-python",
   "name": "python",
   "nbconvert_exporter": "python",
   "pygments_lexer": "ipython3",
   "version": "3.7.3"
  }
 },
 "nbformat": 4,
 "nbformat_minor": 1
}
